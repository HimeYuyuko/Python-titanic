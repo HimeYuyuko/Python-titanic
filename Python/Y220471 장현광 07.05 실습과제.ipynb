{
 "cells": [
  {
   "cell_type": "markdown",
   "id": "e4c77fee",
   "metadata": {},
   "source": [
    "<h1>실습 5</h1>"
   ]
  },
  {
   "cell_type": "code",
   "execution_count": 1,
   "id": "1f845a08",
   "metadata": {},
   "outputs": [],
   "source": [
    "import pandas as pd\n",
    "import numpy as np\n",
    "from sklearn.preprocessing import *"
   ]
  },
  {
   "cell_type": "code",
   "execution_count": 2,
   "id": "79706353",
   "metadata": {},
   "outputs": [],
   "source": [
    "data = {'이름':['홍길동', '성춘향', '이몽룡', '김철수', '김영희', '김만수', '오지랖', '만순이','문정억', '백만원', '천만원','수십억', '현재미'],\n",
    "        '몸무게': [95,85,75,70,65,55, 120, 100, 71,65, 75, 100,77],\n",
    "        '키': [170,170, 170, 170, 170, 175, 171, 165, 164,177,163,192,182],\n",
    "        '거주지':['서울', '대구', '대전', '서울','경북', '서울', '경북', '서울','서울','전남','전북','경북', '서울'],\n",
    "        '주민번호':['81XXXX-1XXXXXX','81XXXX-1XXXXXX', '79XXXX-2XXXXXX', '71XXXX-1XXXXXX','65XXXX-2XXXXXX','81XXXX-1XXXXXX', '63XXXX-1XXXXXX', '81XXXX-3XXXXXX',\n",
    "                '81XXXX-1234562','55XXXX-1234562', '71XXXX-2234562', '92XXXX-1234562','85XXXX-2234562'],\n",
    "        '흡연여부':['흡연','미흡연', '미흡연', '흡연', '흡연', '미흡연', '흡연', '흡연', '흡연','미흡연', '미흡연', '미흡연','미흡연']\n",
    "}\n",
    "df=pd.DataFrame(data)"
   ]
  },
  {
   "cell_type": "code",
   "execution_count": 3,
   "id": "2e630a75",
   "metadata": {},
   "outputs": [
    {
     "data": {
      "text/html": [
       "<div>\n",
       "<style scoped>\n",
       "    .dataframe tbody tr th:only-of-type {\n",
       "        vertical-align: middle;\n",
       "    }\n",
       "\n",
       "    .dataframe tbody tr th {\n",
       "        vertical-align: top;\n",
       "    }\n",
       "\n",
       "    .dataframe thead th {\n",
       "        text-align: right;\n",
       "    }\n",
       "</style>\n",
       "<table border=\"1\" class=\"dataframe\">\n",
       "  <thead>\n",
       "    <tr style=\"text-align: right;\">\n",
       "      <th></th>\n",
       "      <th>이름</th>\n",
       "      <th>몸무게</th>\n",
       "      <th>키</th>\n",
       "      <th>거주지</th>\n",
       "      <th>주민번호</th>\n",
       "      <th>흡연여부</th>\n",
       "    </tr>\n",
       "  </thead>\n",
       "  <tbody>\n",
       "    <tr>\n",
       "      <th>0</th>\n",
       "      <td>홍길동</td>\n",
       "      <td>95</td>\n",
       "      <td>170</td>\n",
       "      <td>서울</td>\n",
       "      <td>81XXXX-1XXXXXX</td>\n",
       "      <td>흡연</td>\n",
       "    </tr>\n",
       "    <tr>\n",
       "      <th>1</th>\n",
       "      <td>성춘향</td>\n",
       "      <td>85</td>\n",
       "      <td>170</td>\n",
       "      <td>대구</td>\n",
       "      <td>81XXXX-1XXXXXX</td>\n",
       "      <td>미흡연</td>\n",
       "    </tr>\n",
       "    <tr>\n",
       "      <th>2</th>\n",
       "      <td>이몽룡</td>\n",
       "      <td>75</td>\n",
       "      <td>170</td>\n",
       "      <td>대전</td>\n",
       "      <td>79XXXX-2XXXXXX</td>\n",
       "      <td>미흡연</td>\n",
       "    </tr>\n",
       "    <tr>\n",
       "      <th>3</th>\n",
       "      <td>김철수</td>\n",
       "      <td>70</td>\n",
       "      <td>170</td>\n",
       "      <td>서울</td>\n",
       "      <td>71XXXX-1XXXXXX</td>\n",
       "      <td>흡연</td>\n",
       "    </tr>\n",
       "    <tr>\n",
       "      <th>4</th>\n",
       "      <td>김영희</td>\n",
       "      <td>65</td>\n",
       "      <td>170</td>\n",
       "      <td>경북</td>\n",
       "      <td>65XXXX-2XXXXXX</td>\n",
       "      <td>흡연</td>\n",
       "    </tr>\n",
       "  </tbody>\n",
       "</table>\n",
       "</div>"
      ],
      "text/plain": [
       "    이름  몸무게    키 거주지            주민번호 흡연여부\n",
       "0  홍길동   95  170  서울  81XXXX-1XXXXXX   흡연\n",
       "1  성춘향   85  170  대구  81XXXX-1XXXXXX  미흡연\n",
       "2  이몽룡   75  170  대전  79XXXX-2XXXXXX  미흡연\n",
       "3  김철수   70  170  서울  71XXXX-1XXXXXX   흡연\n",
       "4  김영희   65  170  경북  65XXXX-2XXXXXX   흡연"
      ]
     },
     "execution_count": 3,
     "metadata": {},
     "output_type": "execute_result"
    }
   ],
   "source": [
    "df.head()"
   ]
  },
  {
   "cell_type": "code",
   "execution_count": 4,
   "id": "9fe0b83b",
   "metadata": {},
   "outputs": [],
   "source": [
    "df_mod = df.copy()"
   ]
  },
  {
   "cell_type": "code",
   "execution_count": 5,
   "id": "b26cfcf2",
   "metadata": {},
   "outputs": [],
   "source": [
    "encoing = LabelEncoder()\n",
    "encoing.fit(df_mod[\"이름\"])\n",
    "\n",
    "df_mod[\"이름_인코딩\"]=encoing.transform(df_mod[\"이름\"])"
   ]
  },
  {
   "cell_type": "code",
   "execution_count": 6,
   "id": "70b49356",
   "metadata": {},
   "outputs": [
    {
     "name": "stdout",
     "output_type": "stream",
     "text": [
      "['김만수', '김영희', '김철수', '만순이', '문정억', '백만원', '성춘향', '수십억', '오지랖', '이몽룡', '천만원', '현재미', '홍길동']\n",
      "['김영희', '김만수']\n"
     ]
    }
   ],
   "source": [
    "print(list(encoing.classes_))#클래스 체크\n",
    "print(list(encoing.inverse_transform([1,0])))"
   ]
  },
  {
   "cell_type": "code",
   "execution_count": 7,
   "id": "3fa6aa92",
   "metadata": {},
   "outputs": [],
   "source": [
    "encoing2 = LabelEncoder()\n",
    "encoing2.fit(df_mod[\"흡연여부\"])\n",
    "\n",
    "df_mod[\"흡연여부_인코딩\"]= encoing2.transform(df_mod[\"흡연여부\"])"
   ]
  },
  {
   "cell_type": "code",
   "execution_count": 8,
   "id": "b1bec241",
   "metadata": {},
   "outputs": [
    {
     "data": {
      "text/html": [
       "<div>\n",
       "<style scoped>\n",
       "    .dataframe tbody tr th:only-of-type {\n",
       "        vertical-align: middle;\n",
       "    }\n",
       "\n",
       "    .dataframe tbody tr th {\n",
       "        vertical-align: top;\n",
       "    }\n",
       "\n",
       "    .dataframe thead th {\n",
       "        text-align: right;\n",
       "    }\n",
       "</style>\n",
       "<table border=\"1\" class=\"dataframe\">\n",
       "  <thead>\n",
       "    <tr style=\"text-align: right;\">\n",
       "      <th></th>\n",
       "      <th>이름</th>\n",
       "      <th>몸무게</th>\n",
       "      <th>키</th>\n",
       "      <th>거주지</th>\n",
       "      <th>주민번호</th>\n",
       "      <th>흡연여부</th>\n",
       "      <th>이름_인코딩</th>\n",
       "      <th>흡연여부_인코딩</th>\n",
       "    </tr>\n",
       "  </thead>\n",
       "  <tbody>\n",
       "    <tr>\n",
       "      <th>0</th>\n",
       "      <td>홍길동</td>\n",
       "      <td>95</td>\n",
       "      <td>170</td>\n",
       "      <td>서울</td>\n",
       "      <td>81XXXX-1XXXXXX</td>\n",
       "      <td>흡연</td>\n",
       "      <td>12</td>\n",
       "      <td>1</td>\n",
       "    </tr>\n",
       "    <tr>\n",
       "      <th>1</th>\n",
       "      <td>성춘향</td>\n",
       "      <td>85</td>\n",
       "      <td>170</td>\n",
       "      <td>대구</td>\n",
       "      <td>81XXXX-1XXXXXX</td>\n",
       "      <td>미흡연</td>\n",
       "      <td>6</td>\n",
       "      <td>0</td>\n",
       "    </tr>\n",
       "    <tr>\n",
       "      <th>2</th>\n",
       "      <td>이몽룡</td>\n",
       "      <td>75</td>\n",
       "      <td>170</td>\n",
       "      <td>대전</td>\n",
       "      <td>79XXXX-2XXXXXX</td>\n",
       "      <td>미흡연</td>\n",
       "      <td>9</td>\n",
       "      <td>0</td>\n",
       "    </tr>\n",
       "    <tr>\n",
       "      <th>3</th>\n",
       "      <td>김철수</td>\n",
       "      <td>70</td>\n",
       "      <td>170</td>\n",
       "      <td>서울</td>\n",
       "      <td>71XXXX-1XXXXXX</td>\n",
       "      <td>흡연</td>\n",
       "      <td>2</td>\n",
       "      <td>1</td>\n",
       "    </tr>\n",
       "    <tr>\n",
       "      <th>4</th>\n",
       "      <td>김영희</td>\n",
       "      <td>65</td>\n",
       "      <td>170</td>\n",
       "      <td>경북</td>\n",
       "      <td>65XXXX-2XXXXXX</td>\n",
       "      <td>흡연</td>\n",
       "      <td>1</td>\n",
       "      <td>1</td>\n",
       "    </tr>\n",
       "  </tbody>\n",
       "</table>\n",
       "</div>"
      ],
      "text/plain": [
       "    이름  몸무게    키 거주지            주민번호 흡연여부  이름_인코딩  흡연여부_인코딩\n",
       "0  홍길동   95  170  서울  81XXXX-1XXXXXX   흡연      12         1\n",
       "1  성춘향   85  170  대구  81XXXX-1XXXXXX  미흡연       6         0\n",
       "2  이몽룡   75  170  대전  79XXXX-2XXXXXX  미흡연       9         0\n",
       "3  김철수   70  170  서울  71XXXX-1XXXXXX   흡연       2         1\n",
       "4  김영희   65  170  경북  65XXXX-2XXXXXX   흡연       1         1"
      ]
     },
     "execution_count": 8,
     "metadata": {},
     "output_type": "execute_result"
    }
   ],
   "source": [
    "df_mod.head()"
   ]
  },
  {
   "cell_type": "code",
   "execution_count": 9,
   "id": "5d1e2060",
   "metadata": {},
   "outputs": [],
   "source": [
    "CurYear=2022\n",
    "\n",
    "def stdInfo(rrn):\n",
    "    #앞 2자리를 이용하여 나이 계산\n",
    "    if int(rrn[:2])< 21 :\n",
    "        biryear = 2000+ int(rrn[:2])\n",
    "    else:\n",
    "        biryear= 1900+int(rrn[:2])\n",
    "    return CurYear - biryear"
   ]
  },
  {
   "cell_type": "code",
   "execution_count": 10,
   "id": "aaa4f455",
   "metadata": {},
   "outputs": [],
   "source": [
    "df_mod['나이'] = df_mod['주민번호'].apply(stdInfo)"
   ]
  },
  {
   "cell_type": "code",
   "execution_count": 11,
   "id": "24d97950",
   "metadata": {},
   "outputs": [
    {
     "data": {
      "text/html": [
       "<div>\n",
       "<style scoped>\n",
       "    .dataframe tbody tr th:only-of-type {\n",
       "        vertical-align: middle;\n",
       "    }\n",
       "\n",
       "    .dataframe tbody tr th {\n",
       "        vertical-align: top;\n",
       "    }\n",
       "\n",
       "    .dataframe thead th {\n",
       "        text-align: right;\n",
       "    }\n",
       "</style>\n",
       "<table border=\"1\" class=\"dataframe\">\n",
       "  <thead>\n",
       "    <tr style=\"text-align: right;\">\n",
       "      <th></th>\n",
       "      <th>이름</th>\n",
       "      <th>몸무게</th>\n",
       "      <th>키</th>\n",
       "      <th>거주지</th>\n",
       "      <th>주민번호</th>\n",
       "      <th>흡연여부</th>\n",
       "      <th>이름_인코딩</th>\n",
       "      <th>흡연여부_인코딩</th>\n",
       "      <th>나이</th>\n",
       "    </tr>\n",
       "  </thead>\n",
       "  <tbody>\n",
       "    <tr>\n",
       "      <th>0</th>\n",
       "      <td>홍길동</td>\n",
       "      <td>95</td>\n",
       "      <td>170</td>\n",
       "      <td>서울</td>\n",
       "      <td>81XXXX-1XXXXXX</td>\n",
       "      <td>흡연</td>\n",
       "      <td>12</td>\n",
       "      <td>1</td>\n",
       "      <td>41</td>\n",
       "    </tr>\n",
       "    <tr>\n",
       "      <th>1</th>\n",
       "      <td>성춘향</td>\n",
       "      <td>85</td>\n",
       "      <td>170</td>\n",
       "      <td>대구</td>\n",
       "      <td>81XXXX-1XXXXXX</td>\n",
       "      <td>미흡연</td>\n",
       "      <td>6</td>\n",
       "      <td>0</td>\n",
       "      <td>41</td>\n",
       "    </tr>\n",
       "    <tr>\n",
       "      <th>2</th>\n",
       "      <td>이몽룡</td>\n",
       "      <td>75</td>\n",
       "      <td>170</td>\n",
       "      <td>대전</td>\n",
       "      <td>79XXXX-2XXXXXX</td>\n",
       "      <td>미흡연</td>\n",
       "      <td>9</td>\n",
       "      <td>0</td>\n",
       "      <td>43</td>\n",
       "    </tr>\n",
       "    <tr>\n",
       "      <th>3</th>\n",
       "      <td>김철수</td>\n",
       "      <td>70</td>\n",
       "      <td>170</td>\n",
       "      <td>서울</td>\n",
       "      <td>71XXXX-1XXXXXX</td>\n",
       "      <td>흡연</td>\n",
       "      <td>2</td>\n",
       "      <td>1</td>\n",
       "      <td>51</td>\n",
       "    </tr>\n",
       "    <tr>\n",
       "      <th>4</th>\n",
       "      <td>김영희</td>\n",
       "      <td>65</td>\n",
       "      <td>170</td>\n",
       "      <td>경북</td>\n",
       "      <td>65XXXX-2XXXXXX</td>\n",
       "      <td>흡연</td>\n",
       "      <td>1</td>\n",
       "      <td>1</td>\n",
       "      <td>57</td>\n",
       "    </tr>\n",
       "  </tbody>\n",
       "</table>\n",
       "</div>"
      ],
      "text/plain": [
       "    이름  몸무게    키 거주지            주민번호 흡연여부  이름_인코딩  흡연여부_인코딩  나이\n",
       "0  홍길동   95  170  서울  81XXXX-1XXXXXX   흡연      12         1  41\n",
       "1  성춘향   85  170  대구  81XXXX-1XXXXXX  미흡연       6         0  41\n",
       "2  이몽룡   75  170  대전  79XXXX-2XXXXXX  미흡연       9         0  43\n",
       "3  김철수   70  170  서울  71XXXX-1XXXXXX   흡연       2         1  51\n",
       "4  김영희   65  170  경북  65XXXX-2XXXXXX   흡연       1         1  57"
      ]
     },
     "execution_count": 11,
     "metadata": {},
     "output_type": "execute_result"
    }
   ],
   "source": [
    "df_mod.head()"
   ]
  },
  {
   "cell_type": "code",
   "execution_count": 12,
   "id": "72c927d6",
   "metadata": {},
   "outputs": [],
   "source": [
    "def sex(rrn):\n",
    "    if int(rrn[7]) == 1 or int(rrn[7]) == 3:\n",
    "        gen='남'\n",
    "    else:\n",
    "        gen='여'\n",
    "    return gen"
   ]
  },
  {
   "cell_type": "code",
   "execution_count": 13,
   "id": "14391236",
   "metadata": {},
   "outputs": [],
   "source": [
    "df_mod['성별'] = df_mod['주민번호'].apply(sex)"
   ]
  },
  {
   "cell_type": "code",
   "execution_count": 15,
   "id": "07dfbc6b",
   "metadata": {},
   "outputs": [],
   "source": [
    "one_encoding = OneHotEncoder(sparse = False)\n",
    "\n",
    "df_mod_one = pd.DataFrame(one_encoding.fit_transform(df_mod[['성별']]), columns=['성별_남','성별_여'])"
   ]
  },
  {
   "cell_type": "code",
   "execution_count": 16,
   "id": "096abe1e",
   "metadata": {},
   "outputs": [],
   "source": [
    "df_mod = pd.concat([df_mod,df_mod_one], axis = 1)"
   ]
  },
  {
   "cell_type": "code",
   "execution_count": 17,
   "id": "c4e1c8b6",
   "metadata": {},
   "outputs": [
    {
     "data": {
      "text/html": [
       "<div>\n",
       "<style scoped>\n",
       "    .dataframe tbody tr th:only-of-type {\n",
       "        vertical-align: middle;\n",
       "    }\n",
       "\n",
       "    .dataframe tbody tr th {\n",
       "        vertical-align: top;\n",
       "    }\n",
       "\n",
       "    .dataframe thead th {\n",
       "        text-align: right;\n",
       "    }\n",
       "</style>\n",
       "<table border=\"1\" class=\"dataframe\">\n",
       "  <thead>\n",
       "    <tr style=\"text-align: right;\">\n",
       "      <th></th>\n",
       "      <th>이름</th>\n",
       "      <th>몸무게</th>\n",
       "      <th>키</th>\n",
       "      <th>거주지</th>\n",
       "      <th>주민번호</th>\n",
       "      <th>흡연여부</th>\n",
       "      <th>이름_인코딩</th>\n",
       "      <th>흡연여부_인코딩</th>\n",
       "      <th>나이</th>\n",
       "      <th>성별</th>\n",
       "      <th>성별_남</th>\n",
       "      <th>성별_여</th>\n",
       "    </tr>\n",
       "  </thead>\n",
       "  <tbody>\n",
       "    <tr>\n",
       "      <th>0</th>\n",
       "      <td>홍길동</td>\n",
       "      <td>95</td>\n",
       "      <td>170</td>\n",
       "      <td>서울</td>\n",
       "      <td>81XXXX-1XXXXXX</td>\n",
       "      <td>흡연</td>\n",
       "      <td>12</td>\n",
       "      <td>1</td>\n",
       "      <td>41</td>\n",
       "      <td>남</td>\n",
       "      <td>1.0</td>\n",
       "      <td>0.0</td>\n",
       "    </tr>\n",
       "    <tr>\n",
       "      <th>1</th>\n",
       "      <td>성춘향</td>\n",
       "      <td>85</td>\n",
       "      <td>170</td>\n",
       "      <td>대구</td>\n",
       "      <td>81XXXX-1XXXXXX</td>\n",
       "      <td>미흡연</td>\n",
       "      <td>6</td>\n",
       "      <td>0</td>\n",
       "      <td>41</td>\n",
       "      <td>남</td>\n",
       "      <td>1.0</td>\n",
       "      <td>0.0</td>\n",
       "    </tr>\n",
       "    <tr>\n",
       "      <th>2</th>\n",
       "      <td>이몽룡</td>\n",
       "      <td>75</td>\n",
       "      <td>170</td>\n",
       "      <td>대전</td>\n",
       "      <td>79XXXX-2XXXXXX</td>\n",
       "      <td>미흡연</td>\n",
       "      <td>9</td>\n",
       "      <td>0</td>\n",
       "      <td>43</td>\n",
       "      <td>여</td>\n",
       "      <td>0.0</td>\n",
       "      <td>1.0</td>\n",
       "    </tr>\n",
       "    <tr>\n",
       "      <th>3</th>\n",
       "      <td>김철수</td>\n",
       "      <td>70</td>\n",
       "      <td>170</td>\n",
       "      <td>서울</td>\n",
       "      <td>71XXXX-1XXXXXX</td>\n",
       "      <td>흡연</td>\n",
       "      <td>2</td>\n",
       "      <td>1</td>\n",
       "      <td>51</td>\n",
       "      <td>남</td>\n",
       "      <td>1.0</td>\n",
       "      <td>0.0</td>\n",
       "    </tr>\n",
       "    <tr>\n",
       "      <th>4</th>\n",
       "      <td>김영희</td>\n",
       "      <td>65</td>\n",
       "      <td>170</td>\n",
       "      <td>경북</td>\n",
       "      <td>65XXXX-2XXXXXX</td>\n",
       "      <td>흡연</td>\n",
       "      <td>1</td>\n",
       "      <td>1</td>\n",
       "      <td>57</td>\n",
       "      <td>여</td>\n",
       "      <td>0.0</td>\n",
       "      <td>1.0</td>\n",
       "    </tr>\n",
       "  </tbody>\n",
       "</table>\n",
       "</div>"
      ],
      "text/plain": [
       "    이름  몸무게    키 거주지            주민번호 흡연여부  이름_인코딩  흡연여부_인코딩  나이 성별  성별_남  성별_여\n",
       "0  홍길동   95  170  서울  81XXXX-1XXXXXX   흡연      12         1  41  남   1.0   0.0\n",
       "1  성춘향   85  170  대구  81XXXX-1XXXXXX  미흡연       6         0  41  남   1.0   0.0\n",
       "2  이몽룡   75  170  대전  79XXXX-2XXXXXX  미흡연       9         0  43  여   0.0   1.0\n",
       "3  김철수   70  170  서울  71XXXX-1XXXXXX   흡연       2         1  51  남   1.0   0.0\n",
       "4  김영희   65  170  경북  65XXXX-2XXXXXX   흡연       1         1  57  여   0.0   1.0"
      ]
     },
     "execution_count": 17,
     "metadata": {},
     "output_type": "execute_result"
    }
   ],
   "source": [
    "df_mod.head()"
   ]
  },
  {
   "cell_type": "code",
   "execution_count": 18,
   "id": "3dd7bd04",
   "metadata": {},
   "outputs": [],
   "source": [
    "df_mod['나이_범주'] = pd.cut(df_mod.나이, bins = [0,10,20,30,40,50,60,70], labels=[0,10,20,30,40,50,60])"
   ]
  },
  {
   "cell_type": "code",
   "execution_count": 19,
   "id": "c703a016",
   "metadata": {},
   "outputs": [
    {
     "data": {
      "text/html": [
       "<div>\n",
       "<style scoped>\n",
       "    .dataframe tbody tr th:only-of-type {\n",
       "        vertical-align: middle;\n",
       "    }\n",
       "\n",
       "    .dataframe tbody tr th {\n",
       "        vertical-align: top;\n",
       "    }\n",
       "\n",
       "    .dataframe thead th {\n",
       "        text-align: right;\n",
       "    }\n",
       "</style>\n",
       "<table border=\"1\" class=\"dataframe\">\n",
       "  <thead>\n",
       "    <tr style=\"text-align: right;\">\n",
       "      <th></th>\n",
       "      <th>이름</th>\n",
       "      <th>몸무게</th>\n",
       "      <th>키</th>\n",
       "      <th>거주지</th>\n",
       "      <th>주민번호</th>\n",
       "      <th>흡연여부</th>\n",
       "      <th>이름_인코딩</th>\n",
       "      <th>흡연여부_인코딩</th>\n",
       "      <th>나이</th>\n",
       "      <th>성별</th>\n",
       "      <th>성별_남</th>\n",
       "      <th>성별_여</th>\n",
       "      <th>나이_범주</th>\n",
       "    </tr>\n",
       "  </thead>\n",
       "  <tbody>\n",
       "    <tr>\n",
       "      <th>0</th>\n",
       "      <td>홍길동</td>\n",
       "      <td>95</td>\n",
       "      <td>170</td>\n",
       "      <td>서울</td>\n",
       "      <td>81XXXX-1XXXXXX</td>\n",
       "      <td>흡연</td>\n",
       "      <td>12</td>\n",
       "      <td>1</td>\n",
       "      <td>41</td>\n",
       "      <td>남</td>\n",
       "      <td>1.0</td>\n",
       "      <td>0.0</td>\n",
       "      <td>40</td>\n",
       "    </tr>\n",
       "    <tr>\n",
       "      <th>1</th>\n",
       "      <td>성춘향</td>\n",
       "      <td>85</td>\n",
       "      <td>170</td>\n",
       "      <td>대구</td>\n",
       "      <td>81XXXX-1XXXXXX</td>\n",
       "      <td>미흡연</td>\n",
       "      <td>6</td>\n",
       "      <td>0</td>\n",
       "      <td>41</td>\n",
       "      <td>남</td>\n",
       "      <td>1.0</td>\n",
       "      <td>0.0</td>\n",
       "      <td>40</td>\n",
       "    </tr>\n",
       "    <tr>\n",
       "      <th>2</th>\n",
       "      <td>이몽룡</td>\n",
       "      <td>75</td>\n",
       "      <td>170</td>\n",
       "      <td>대전</td>\n",
       "      <td>79XXXX-2XXXXXX</td>\n",
       "      <td>미흡연</td>\n",
       "      <td>9</td>\n",
       "      <td>0</td>\n",
       "      <td>43</td>\n",
       "      <td>여</td>\n",
       "      <td>0.0</td>\n",
       "      <td>1.0</td>\n",
       "      <td>40</td>\n",
       "    </tr>\n",
       "    <tr>\n",
       "      <th>3</th>\n",
       "      <td>김철수</td>\n",
       "      <td>70</td>\n",
       "      <td>170</td>\n",
       "      <td>서울</td>\n",
       "      <td>71XXXX-1XXXXXX</td>\n",
       "      <td>흡연</td>\n",
       "      <td>2</td>\n",
       "      <td>1</td>\n",
       "      <td>51</td>\n",
       "      <td>남</td>\n",
       "      <td>1.0</td>\n",
       "      <td>0.0</td>\n",
       "      <td>50</td>\n",
       "    </tr>\n",
       "    <tr>\n",
       "      <th>4</th>\n",
       "      <td>김영희</td>\n",
       "      <td>65</td>\n",
       "      <td>170</td>\n",
       "      <td>경북</td>\n",
       "      <td>65XXXX-2XXXXXX</td>\n",
       "      <td>흡연</td>\n",
       "      <td>1</td>\n",
       "      <td>1</td>\n",
       "      <td>57</td>\n",
       "      <td>여</td>\n",
       "      <td>0.0</td>\n",
       "      <td>1.0</td>\n",
       "      <td>50</td>\n",
       "    </tr>\n",
       "  </tbody>\n",
       "</table>\n",
       "</div>"
      ],
      "text/plain": [
       "    이름  몸무게    키 거주지            주민번호 흡연여부  이름_인코딩  흡연여부_인코딩  나이 성별  성별_남  \\\n",
       "0  홍길동   95  170  서울  81XXXX-1XXXXXX   흡연      12         1  41  남   1.0   \n",
       "1  성춘향   85  170  대구  81XXXX-1XXXXXX  미흡연       6         0  41  남   1.0   \n",
       "2  이몽룡   75  170  대전  79XXXX-2XXXXXX  미흡연       9         0  43  여   0.0   \n",
       "3  김철수   70  170  서울  71XXXX-1XXXXXX   흡연       2         1  51  남   1.0   \n",
       "4  김영희   65  170  경북  65XXXX-2XXXXXX   흡연       1         1  57  여   0.0   \n",
       "\n",
       "   성별_여 나이_범주  \n",
       "0   0.0    40  \n",
       "1   0.0    40  \n",
       "2   1.0    40  \n",
       "3   0.0    50  \n",
       "4   1.0    50  "
      ]
     },
     "execution_count": 19,
     "metadata": {},
     "output_type": "execute_result"
    }
   ],
   "source": [
    "df_mod.head()"
   ]
  },
  {
   "cell_type": "code",
   "execution_count": 20,
   "id": "55a9fc9d",
   "metadata": {},
   "outputs": [],
   "source": [
    "df_mod.eval('BMI = 몸무게/((키/100)*(키/100))',inplace = True)"
   ]
  },
  {
   "cell_type": "code",
   "execution_count": 21,
   "id": "effee088",
   "metadata": {},
   "outputs": [
    {
     "data": {
      "text/html": [
       "<div>\n",
       "<style scoped>\n",
       "    .dataframe tbody tr th:only-of-type {\n",
       "        vertical-align: middle;\n",
       "    }\n",
       "\n",
       "    .dataframe tbody tr th {\n",
       "        vertical-align: top;\n",
       "    }\n",
       "\n",
       "    .dataframe thead th {\n",
       "        text-align: right;\n",
       "    }\n",
       "</style>\n",
       "<table border=\"1\" class=\"dataframe\">\n",
       "  <thead>\n",
       "    <tr style=\"text-align: right;\">\n",
       "      <th></th>\n",
       "      <th>이름</th>\n",
       "      <th>몸무게</th>\n",
       "      <th>키</th>\n",
       "      <th>거주지</th>\n",
       "      <th>주민번호</th>\n",
       "      <th>흡연여부</th>\n",
       "      <th>이름_인코딩</th>\n",
       "      <th>흡연여부_인코딩</th>\n",
       "      <th>나이</th>\n",
       "      <th>성별</th>\n",
       "      <th>성별_남</th>\n",
       "      <th>성별_여</th>\n",
       "      <th>나이_범주</th>\n",
       "      <th>BMI</th>\n",
       "    </tr>\n",
       "  </thead>\n",
       "  <tbody>\n",
       "    <tr>\n",
       "      <th>0</th>\n",
       "      <td>홍길동</td>\n",
       "      <td>95</td>\n",
       "      <td>170</td>\n",
       "      <td>서울</td>\n",
       "      <td>81XXXX-1XXXXXX</td>\n",
       "      <td>흡연</td>\n",
       "      <td>12</td>\n",
       "      <td>1</td>\n",
       "      <td>41</td>\n",
       "      <td>남</td>\n",
       "      <td>1.0</td>\n",
       "      <td>0.0</td>\n",
       "      <td>40</td>\n",
       "      <td>32.871972</td>\n",
       "    </tr>\n",
       "    <tr>\n",
       "      <th>1</th>\n",
       "      <td>성춘향</td>\n",
       "      <td>85</td>\n",
       "      <td>170</td>\n",
       "      <td>대구</td>\n",
       "      <td>81XXXX-1XXXXXX</td>\n",
       "      <td>미흡연</td>\n",
       "      <td>6</td>\n",
       "      <td>0</td>\n",
       "      <td>41</td>\n",
       "      <td>남</td>\n",
       "      <td>1.0</td>\n",
       "      <td>0.0</td>\n",
       "      <td>40</td>\n",
       "      <td>29.411765</td>\n",
       "    </tr>\n",
       "    <tr>\n",
       "      <th>2</th>\n",
       "      <td>이몽룡</td>\n",
       "      <td>75</td>\n",
       "      <td>170</td>\n",
       "      <td>대전</td>\n",
       "      <td>79XXXX-2XXXXXX</td>\n",
       "      <td>미흡연</td>\n",
       "      <td>9</td>\n",
       "      <td>0</td>\n",
       "      <td>43</td>\n",
       "      <td>여</td>\n",
       "      <td>0.0</td>\n",
       "      <td>1.0</td>\n",
       "      <td>40</td>\n",
       "      <td>25.951557</td>\n",
       "    </tr>\n",
       "    <tr>\n",
       "      <th>3</th>\n",
       "      <td>김철수</td>\n",
       "      <td>70</td>\n",
       "      <td>170</td>\n",
       "      <td>서울</td>\n",
       "      <td>71XXXX-1XXXXXX</td>\n",
       "      <td>흡연</td>\n",
       "      <td>2</td>\n",
       "      <td>1</td>\n",
       "      <td>51</td>\n",
       "      <td>남</td>\n",
       "      <td>1.0</td>\n",
       "      <td>0.0</td>\n",
       "      <td>50</td>\n",
       "      <td>24.221453</td>\n",
       "    </tr>\n",
       "    <tr>\n",
       "      <th>4</th>\n",
       "      <td>김영희</td>\n",
       "      <td>65</td>\n",
       "      <td>170</td>\n",
       "      <td>경북</td>\n",
       "      <td>65XXXX-2XXXXXX</td>\n",
       "      <td>흡연</td>\n",
       "      <td>1</td>\n",
       "      <td>1</td>\n",
       "      <td>57</td>\n",
       "      <td>여</td>\n",
       "      <td>0.0</td>\n",
       "      <td>1.0</td>\n",
       "      <td>50</td>\n",
       "      <td>22.491349</td>\n",
       "    </tr>\n",
       "  </tbody>\n",
       "</table>\n",
       "</div>"
      ],
      "text/plain": [
       "    이름  몸무게    키 거주지            주민번호 흡연여부  이름_인코딩  흡연여부_인코딩  나이 성별  성별_남  \\\n",
       "0  홍길동   95  170  서울  81XXXX-1XXXXXX   흡연      12         1  41  남   1.0   \n",
       "1  성춘향   85  170  대구  81XXXX-1XXXXXX  미흡연       6         0  41  남   1.0   \n",
       "2  이몽룡   75  170  대전  79XXXX-2XXXXXX  미흡연       9         0  43  여   0.0   \n",
       "3  김철수   70  170  서울  71XXXX-1XXXXXX   흡연       2         1  51  남   1.0   \n",
       "4  김영희   65  170  경북  65XXXX-2XXXXXX   흡연       1         1  57  여   0.0   \n",
       "\n",
       "   성별_여 나이_범주        BMI  \n",
       "0   0.0    40  32.871972  \n",
       "1   0.0    40  29.411765  \n",
       "2   1.0    40  25.951557  \n",
       "3   0.0    50  24.221453  \n",
       "4   1.0    50  22.491349  "
      ]
     },
     "execution_count": 21,
     "metadata": {},
     "output_type": "execute_result"
    }
   ],
   "source": [
    "df_mod.head()"
   ]
  },
  {
   "cell_type": "code",
   "execution_count": 22,
   "id": "8b38a4e5",
   "metadata": {},
   "outputs": [],
   "source": [
    "df_mod['BMI분류'] = pd.cut(df_mod.BMI, bins=[0,18,23,25,30,90], labels=['저체중','정상','과체중','비만','고도비만'])\n",
    "df_mod['BMI분류코드'] = df_mod['BMI분류'].map({'저체중':0,'정상':1,'과체중':2,'비만':3,'고도비만':4})"
   ]
  },
  {
   "cell_type": "code",
   "execution_count": 23,
   "id": "a9e7e1d3",
   "metadata": {},
   "outputs": [
    {
     "data": {
      "text/html": [
       "<div>\n",
       "<style scoped>\n",
       "    .dataframe tbody tr th:only-of-type {\n",
       "        vertical-align: middle;\n",
       "    }\n",
       "\n",
       "    .dataframe tbody tr th {\n",
       "        vertical-align: top;\n",
       "    }\n",
       "\n",
       "    .dataframe thead th {\n",
       "        text-align: right;\n",
       "    }\n",
       "</style>\n",
       "<table border=\"1\" class=\"dataframe\">\n",
       "  <thead>\n",
       "    <tr style=\"text-align: right;\">\n",
       "      <th></th>\n",
       "      <th>이름</th>\n",
       "      <th>몸무게</th>\n",
       "      <th>키</th>\n",
       "      <th>거주지</th>\n",
       "      <th>주민번호</th>\n",
       "      <th>흡연여부</th>\n",
       "      <th>이름_인코딩</th>\n",
       "      <th>흡연여부_인코딩</th>\n",
       "      <th>나이</th>\n",
       "      <th>성별</th>\n",
       "      <th>성별_남</th>\n",
       "      <th>성별_여</th>\n",
       "      <th>나이_범주</th>\n",
       "      <th>BMI</th>\n",
       "      <th>BMI분류</th>\n",
       "      <th>BMI분류코드</th>\n",
       "    </tr>\n",
       "  </thead>\n",
       "  <tbody>\n",
       "    <tr>\n",
       "      <th>0</th>\n",
       "      <td>홍길동</td>\n",
       "      <td>95</td>\n",
       "      <td>170</td>\n",
       "      <td>서울</td>\n",
       "      <td>81XXXX-1XXXXXX</td>\n",
       "      <td>흡연</td>\n",
       "      <td>12</td>\n",
       "      <td>1</td>\n",
       "      <td>41</td>\n",
       "      <td>남</td>\n",
       "      <td>1.0</td>\n",
       "      <td>0.0</td>\n",
       "      <td>40</td>\n",
       "      <td>32.871972</td>\n",
       "      <td>고도비만</td>\n",
       "      <td>4</td>\n",
       "    </tr>\n",
       "    <tr>\n",
       "      <th>1</th>\n",
       "      <td>성춘향</td>\n",
       "      <td>85</td>\n",
       "      <td>170</td>\n",
       "      <td>대구</td>\n",
       "      <td>81XXXX-1XXXXXX</td>\n",
       "      <td>미흡연</td>\n",
       "      <td>6</td>\n",
       "      <td>0</td>\n",
       "      <td>41</td>\n",
       "      <td>남</td>\n",
       "      <td>1.0</td>\n",
       "      <td>0.0</td>\n",
       "      <td>40</td>\n",
       "      <td>29.411765</td>\n",
       "      <td>비만</td>\n",
       "      <td>3</td>\n",
       "    </tr>\n",
       "    <tr>\n",
       "      <th>2</th>\n",
       "      <td>이몽룡</td>\n",
       "      <td>75</td>\n",
       "      <td>170</td>\n",
       "      <td>대전</td>\n",
       "      <td>79XXXX-2XXXXXX</td>\n",
       "      <td>미흡연</td>\n",
       "      <td>9</td>\n",
       "      <td>0</td>\n",
       "      <td>43</td>\n",
       "      <td>여</td>\n",
       "      <td>0.0</td>\n",
       "      <td>1.0</td>\n",
       "      <td>40</td>\n",
       "      <td>25.951557</td>\n",
       "      <td>비만</td>\n",
       "      <td>3</td>\n",
       "    </tr>\n",
       "    <tr>\n",
       "      <th>3</th>\n",
       "      <td>김철수</td>\n",
       "      <td>70</td>\n",
       "      <td>170</td>\n",
       "      <td>서울</td>\n",
       "      <td>71XXXX-1XXXXXX</td>\n",
       "      <td>흡연</td>\n",
       "      <td>2</td>\n",
       "      <td>1</td>\n",
       "      <td>51</td>\n",
       "      <td>남</td>\n",
       "      <td>1.0</td>\n",
       "      <td>0.0</td>\n",
       "      <td>50</td>\n",
       "      <td>24.221453</td>\n",
       "      <td>과체중</td>\n",
       "      <td>2</td>\n",
       "    </tr>\n",
       "    <tr>\n",
       "      <th>4</th>\n",
       "      <td>김영희</td>\n",
       "      <td>65</td>\n",
       "      <td>170</td>\n",
       "      <td>경북</td>\n",
       "      <td>65XXXX-2XXXXXX</td>\n",
       "      <td>흡연</td>\n",
       "      <td>1</td>\n",
       "      <td>1</td>\n",
       "      <td>57</td>\n",
       "      <td>여</td>\n",
       "      <td>0.0</td>\n",
       "      <td>1.0</td>\n",
       "      <td>50</td>\n",
       "      <td>22.491349</td>\n",
       "      <td>정상</td>\n",
       "      <td>1</td>\n",
       "    </tr>\n",
       "  </tbody>\n",
       "</table>\n",
       "</div>"
      ],
      "text/plain": [
       "    이름  몸무게    키 거주지            주민번호 흡연여부  이름_인코딩  흡연여부_인코딩  나이 성별  성별_남  \\\n",
       "0  홍길동   95  170  서울  81XXXX-1XXXXXX   흡연      12         1  41  남   1.0   \n",
       "1  성춘향   85  170  대구  81XXXX-1XXXXXX  미흡연       6         0  41  남   1.0   \n",
       "2  이몽룡   75  170  대전  79XXXX-2XXXXXX  미흡연       9         0  43  여   0.0   \n",
       "3  김철수   70  170  서울  71XXXX-1XXXXXX   흡연       2         1  51  남   1.0   \n",
       "4  김영희   65  170  경북  65XXXX-2XXXXXX   흡연       1         1  57  여   0.0   \n",
       "\n",
       "   성별_여 나이_범주        BMI BMI분류 BMI분류코드  \n",
       "0   0.0    40  32.871972  고도비만       4  \n",
       "1   0.0    40  29.411765    비만       3  \n",
       "2   1.0    40  25.951557    비만       3  \n",
       "3   0.0    50  24.221453   과체중       2  \n",
       "4   1.0    50  22.491349    정상       1  "
      ]
     },
     "execution_count": 23,
     "metadata": {},
     "output_type": "execute_result"
    }
   ],
   "source": [
    "df_mod.head()"
   ]
  },
  {
   "cell_type": "code",
   "execution_count": 24,
   "id": "e20d9ef6",
   "metadata": {},
   "outputs": [],
   "source": [
    "data_pre = df_mod[['나이_범주','성별_남','성별_여','흡연여부_인코딩','키','몸무게','BMI분류코드']]"
   ]
  },
  {
   "cell_type": "code",
   "execution_count": 25,
   "id": "3aca76a9",
   "metadata": {},
   "outputs": [
    {
     "data": {
      "text/html": [
       "<div>\n",
       "<style scoped>\n",
       "    .dataframe tbody tr th:only-of-type {\n",
       "        vertical-align: middle;\n",
       "    }\n",
       "\n",
       "    .dataframe tbody tr th {\n",
       "        vertical-align: top;\n",
       "    }\n",
       "\n",
       "    .dataframe thead th {\n",
       "        text-align: right;\n",
       "    }\n",
       "</style>\n",
       "<table border=\"1\" class=\"dataframe\">\n",
       "  <thead>\n",
       "    <tr style=\"text-align: right;\">\n",
       "      <th></th>\n",
       "      <th>나이_범주</th>\n",
       "      <th>성별_남</th>\n",
       "      <th>성별_여</th>\n",
       "      <th>흡연여부_인코딩</th>\n",
       "      <th>키</th>\n",
       "      <th>몸무게</th>\n",
       "      <th>BMI분류코드</th>\n",
       "    </tr>\n",
       "  </thead>\n",
       "  <tbody>\n",
       "    <tr>\n",
       "      <th>0</th>\n",
       "      <td>40</td>\n",
       "      <td>1.0</td>\n",
       "      <td>0.0</td>\n",
       "      <td>1</td>\n",
       "      <td>170</td>\n",
       "      <td>95</td>\n",
       "      <td>4</td>\n",
       "    </tr>\n",
       "    <tr>\n",
       "      <th>1</th>\n",
       "      <td>40</td>\n",
       "      <td>1.0</td>\n",
       "      <td>0.0</td>\n",
       "      <td>0</td>\n",
       "      <td>170</td>\n",
       "      <td>85</td>\n",
       "      <td>3</td>\n",
       "    </tr>\n",
       "    <tr>\n",
       "      <th>2</th>\n",
       "      <td>40</td>\n",
       "      <td>0.0</td>\n",
       "      <td>1.0</td>\n",
       "      <td>0</td>\n",
       "      <td>170</td>\n",
       "      <td>75</td>\n",
       "      <td>3</td>\n",
       "    </tr>\n",
       "    <tr>\n",
       "      <th>3</th>\n",
       "      <td>50</td>\n",
       "      <td>1.0</td>\n",
       "      <td>0.0</td>\n",
       "      <td>1</td>\n",
       "      <td>170</td>\n",
       "      <td>70</td>\n",
       "      <td>2</td>\n",
       "    </tr>\n",
       "    <tr>\n",
       "      <th>4</th>\n",
       "      <td>50</td>\n",
       "      <td>0.0</td>\n",
       "      <td>1.0</td>\n",
       "      <td>1</td>\n",
       "      <td>170</td>\n",
       "      <td>65</td>\n",
       "      <td>1</td>\n",
       "    </tr>\n",
       "  </tbody>\n",
       "</table>\n",
       "</div>"
      ],
      "text/plain": [
       "  나이_범주  성별_남  성별_여  흡연여부_인코딩    키  몸무게 BMI분류코드\n",
       "0    40   1.0   0.0         1  170   95       4\n",
       "1    40   1.0   0.0         0  170   85       3\n",
       "2    40   0.0   1.0         0  170   75       3\n",
       "3    50   1.0   0.0         1  170   70       2\n",
       "4    50   0.0   1.0         1  170   65       1"
      ]
     },
     "execution_count": 25,
     "metadata": {},
     "output_type": "execute_result"
    }
   ],
   "source": [
    "data_pre.head()"
   ]
  },
  {
   "cell_type": "code",
   "execution_count": null,
   "id": "ed326cd2",
   "metadata": {},
   "outputs": [],
   "source": []
  },
  {
   "cell_type": "code",
   "execution_count": null,
   "id": "ff0ab010",
   "metadata": {},
   "outputs": [],
   "source": []
  },
  {
   "cell_type": "code",
   "execution_count": null,
   "id": "660cd413",
   "metadata": {},
   "outputs": [],
   "source": []
  },
  {
   "cell_type": "markdown",
   "id": "e85c3a0d",
   "metadata": {},
   "source": [
    "<h1>실습 6</h1>"
   ]
  },
  {
   "cell_type": "code",
   "execution_count": 113,
   "id": "74586f6e",
   "metadata": {},
   "outputs": [
    {
     "ename": "SyntaxError",
     "evalue": "invalid syntax (1395907472.py, line 5)",
     "output_type": "error",
     "traceback": [
      "\u001b[1;36m  Input \u001b[1;32mIn [113]\u001b[1;36m\u001b[0m\n\u001b[1;33m    import matplotlib.pyplot as *\u001b[0m\n\u001b[1;37m                                ^\u001b[0m\n\u001b[1;31mSyntaxError\u001b[0m\u001b[1;31m:\u001b[0m invalid syntax\n"
     ]
    }
   ],
   "source": [
    "import os\n",
    "import warnings\n",
    "warnings.simplefilter(action='ignore',category = FutureWarning)\n",
    "from scipy import stats\n",
    "import matplotlib.pyplot as plt\n",
    "import seaborn as sns\n",
    "%matplotlib inline\n",
    "\n",
    "if os.name == 'nt':\n",
    "    font_family = 'Malgun Gothic'\n",
    "else:\n",
    "    font_family = 'AppleGothic'\n",
    "sns.set(fint = font_family, rc={\"axes.unicode_minus\":False})"
   ]
  },
  {
   "cell_type": "code",
   "execution_count": 27,
   "id": "635f969e",
   "metadata": {},
   "outputs": [
    {
     "data": {
      "text/plain": [
       "'C:\\\\Users\\\\user\\\\Desktop\\\\과제\\\\Python'"
      ]
     },
     "execution_count": 27,
     "metadata": {},
     "output_type": "execute_result"
    }
   ],
   "source": [
    "os.getcwd()"
   ]
  },
  {
   "cell_type": "code",
   "execution_count": 28,
   "id": "f0499b86",
   "metadata": {},
   "outputs": [
    {
     "data": {
      "text/plain": [
       "['.ipynb_checkpoints',\n",
       " 'titanic',\n",
       " 'Y220471 장현광 07.05 실습과제.ipynb',\n",
       " 'Y220471 장현광_실습과제.ipynb']"
      ]
     },
     "execution_count": 28,
     "metadata": {},
     "output_type": "execute_result"
    }
   ],
   "source": [
    "os.listdir()"
   ]
  },
  {
   "cell_type": "code",
   "execution_count": 29,
   "id": "dc293635",
   "metadata": {},
   "outputs": [],
   "source": [
    "os.chdir('titanic')"
   ]
  },
  {
   "cell_type": "code",
   "execution_count": 30,
   "id": "d5b337c3",
   "metadata": {},
   "outputs": [
    {
     "data": {
      "text/plain": [
       "['gender_submission.csv', 'test.csv', 'train.csv']"
      ]
     },
     "execution_count": 30,
     "metadata": {},
     "output_type": "execute_result"
    }
   ],
   "source": [
    "os.listdir()"
   ]
  },
  {
   "cell_type": "code",
   "execution_count": 31,
   "id": "27b75151",
   "metadata": {},
   "outputs": [],
   "source": [
    "train =  pd.read_csv('./train.csv')\n",
    "test = pd.read_csv('./test.csv')\n",
    "\n",
    "train_test_data = [train,test]"
   ]
  },
  {
   "cell_type": "code",
   "execution_count": 32,
   "id": "808209df",
   "metadata": {},
   "outputs": [
    {
     "data": {
      "text/plain": [
       "list"
      ]
     },
     "execution_count": 32,
     "metadata": {},
     "output_type": "execute_result"
    }
   ],
   "source": [
    "type(train_test_data)"
   ]
  },
  {
   "cell_type": "code",
   "execution_count": 33,
   "id": "79f0be39",
   "metadata": {},
   "outputs": [
    {
     "data": {
      "text/plain": [
       "pandas.core.frame.DataFrame"
      ]
     },
     "execution_count": 33,
     "metadata": {},
     "output_type": "execute_result"
    }
   ],
   "source": [
    "type(train)"
   ]
  },
  {
   "cell_type": "code",
   "execution_count": 34,
   "id": "bbca5b0a",
   "metadata": {},
   "outputs": [],
   "source": [
    "data = train.copy()"
   ]
  },
  {
   "cell_type": "code",
   "execution_count": 35,
   "id": "2947f02d",
   "metadata": {},
   "outputs": [
    {
     "name": "stdout",
     "output_type": "stream",
     "text": [
      "(891, 12)\n"
     ]
    },
    {
     "data": {
      "text/html": [
       "<div>\n",
       "<style scoped>\n",
       "    .dataframe tbody tr th:only-of-type {\n",
       "        vertical-align: middle;\n",
       "    }\n",
       "\n",
       "    .dataframe tbody tr th {\n",
       "        vertical-align: top;\n",
       "    }\n",
       "\n",
       "    .dataframe thead th {\n",
       "        text-align: right;\n",
       "    }\n",
       "</style>\n",
       "<table border=\"1\" class=\"dataframe\">\n",
       "  <thead>\n",
       "    <tr style=\"text-align: right;\">\n",
       "      <th></th>\n",
       "      <th>Name</th>\n",
       "      <th>Sex</th>\n",
       "      <th>Ticket</th>\n",
       "      <th>Cabin</th>\n",
       "      <th>Embarked</th>\n",
       "    </tr>\n",
       "  </thead>\n",
       "  <tbody>\n",
       "    <tr>\n",
       "      <th>count</th>\n",
       "      <td>891</td>\n",
       "      <td>891</td>\n",
       "      <td>891</td>\n",
       "      <td>204</td>\n",
       "      <td>889</td>\n",
       "    </tr>\n",
       "    <tr>\n",
       "      <th>unique</th>\n",
       "      <td>891</td>\n",
       "      <td>2</td>\n",
       "      <td>681</td>\n",
       "      <td>147</td>\n",
       "      <td>3</td>\n",
       "    </tr>\n",
       "    <tr>\n",
       "      <th>top</th>\n",
       "      <td>Braund, Mr. Owen Harris</td>\n",
       "      <td>male</td>\n",
       "      <td>347082</td>\n",
       "      <td>B96 B98</td>\n",
       "      <td>S</td>\n",
       "    </tr>\n",
       "    <tr>\n",
       "      <th>freq</th>\n",
       "      <td>1</td>\n",
       "      <td>577</td>\n",
       "      <td>7</td>\n",
       "      <td>4</td>\n",
       "      <td>644</td>\n",
       "    </tr>\n",
       "  </tbody>\n",
       "</table>\n",
       "</div>"
      ],
      "text/plain": [
       "                           Name   Sex  Ticket    Cabin Embarked\n",
       "count                       891   891     891      204      889\n",
       "unique                      891     2     681      147        3\n",
       "top     Braund, Mr. Owen Harris  male  347082  B96 B98        S\n",
       "freq                          1   577       7        4      644"
      ]
     },
     "execution_count": 35,
     "metadata": {},
     "output_type": "execute_result"
    }
   ],
   "source": [
    "print(data.shape)\n",
    "data.describe(include= object)"
   ]
  },
  {
   "cell_type": "code",
   "execution_count": 36,
   "id": "dbbc6e5e",
   "metadata": {},
   "outputs": [
    {
     "data": {
      "text/html": [
       "<div>\n",
       "<style scoped>\n",
       "    .dataframe tbody tr th:only-of-type {\n",
       "        vertical-align: middle;\n",
       "    }\n",
       "\n",
       "    .dataframe tbody tr th {\n",
       "        vertical-align: top;\n",
       "    }\n",
       "\n",
       "    .dataframe thead th {\n",
       "        text-align: right;\n",
       "    }\n",
       "</style>\n",
       "<table border=\"1\" class=\"dataframe\">\n",
       "  <thead>\n",
       "    <tr style=\"text-align: right;\">\n",
       "      <th></th>\n",
       "      <th>PassengerId</th>\n",
       "      <th>Survived</th>\n",
       "      <th>Pclass</th>\n",
       "      <th>Age</th>\n",
       "      <th>SibSp</th>\n",
       "      <th>Parch</th>\n",
       "      <th>Fare</th>\n",
       "    </tr>\n",
       "  </thead>\n",
       "  <tbody>\n",
       "    <tr>\n",
       "      <th>count</th>\n",
       "      <td>891.000000</td>\n",
       "      <td>891.000000</td>\n",
       "      <td>891.000000</td>\n",
       "      <td>714.000000</td>\n",
       "      <td>891.000000</td>\n",
       "      <td>891.000000</td>\n",
       "      <td>891.000000</td>\n",
       "    </tr>\n",
       "    <tr>\n",
       "      <th>mean</th>\n",
       "      <td>446.000000</td>\n",
       "      <td>0.383838</td>\n",
       "      <td>2.308642</td>\n",
       "      <td>29.699118</td>\n",
       "      <td>0.523008</td>\n",
       "      <td>0.381594</td>\n",
       "      <td>32.204208</td>\n",
       "    </tr>\n",
       "    <tr>\n",
       "      <th>std</th>\n",
       "      <td>257.353842</td>\n",
       "      <td>0.486592</td>\n",
       "      <td>0.836071</td>\n",
       "      <td>14.526497</td>\n",
       "      <td>1.102743</td>\n",
       "      <td>0.806057</td>\n",
       "      <td>49.693429</td>\n",
       "    </tr>\n",
       "    <tr>\n",
       "      <th>min</th>\n",
       "      <td>1.000000</td>\n",
       "      <td>0.000000</td>\n",
       "      <td>1.000000</td>\n",
       "      <td>0.420000</td>\n",
       "      <td>0.000000</td>\n",
       "      <td>0.000000</td>\n",
       "      <td>0.000000</td>\n",
       "    </tr>\n",
       "    <tr>\n",
       "      <th>25%</th>\n",
       "      <td>223.500000</td>\n",
       "      <td>0.000000</td>\n",
       "      <td>2.000000</td>\n",
       "      <td>20.125000</td>\n",
       "      <td>0.000000</td>\n",
       "      <td>0.000000</td>\n",
       "      <td>7.910400</td>\n",
       "    </tr>\n",
       "    <tr>\n",
       "      <th>50%</th>\n",
       "      <td>446.000000</td>\n",
       "      <td>0.000000</td>\n",
       "      <td>3.000000</td>\n",
       "      <td>28.000000</td>\n",
       "      <td>0.000000</td>\n",
       "      <td>0.000000</td>\n",
       "      <td>14.454200</td>\n",
       "    </tr>\n",
       "    <tr>\n",
       "      <th>75%</th>\n",
       "      <td>668.500000</td>\n",
       "      <td>1.000000</td>\n",
       "      <td>3.000000</td>\n",
       "      <td>38.000000</td>\n",
       "      <td>1.000000</td>\n",
       "      <td>0.000000</td>\n",
       "      <td>31.000000</td>\n",
       "    </tr>\n",
       "    <tr>\n",
       "      <th>max</th>\n",
       "      <td>891.000000</td>\n",
       "      <td>1.000000</td>\n",
       "      <td>3.000000</td>\n",
       "      <td>80.000000</td>\n",
       "      <td>8.000000</td>\n",
       "      <td>6.000000</td>\n",
       "      <td>512.329200</td>\n",
       "    </tr>\n",
       "  </tbody>\n",
       "</table>\n",
       "</div>"
      ],
      "text/plain": [
       "       PassengerId    Survived      Pclass         Age       SibSp  \\\n",
       "count   891.000000  891.000000  891.000000  714.000000  891.000000   \n",
       "mean    446.000000    0.383838    2.308642   29.699118    0.523008   \n",
       "std     257.353842    0.486592    0.836071   14.526497    1.102743   \n",
       "min       1.000000    0.000000    1.000000    0.420000    0.000000   \n",
       "25%     223.500000    0.000000    2.000000   20.125000    0.000000   \n",
       "50%     446.000000    0.000000    3.000000   28.000000    0.000000   \n",
       "75%     668.500000    1.000000    3.000000   38.000000    1.000000   \n",
       "max     891.000000    1.000000    3.000000   80.000000    8.000000   \n",
       "\n",
       "            Parch        Fare  \n",
       "count  891.000000  891.000000  \n",
       "mean     0.381594   32.204208  \n",
       "std      0.806057   49.693429  \n",
       "min      0.000000    0.000000  \n",
       "25%      0.000000    7.910400  \n",
       "50%      0.000000   14.454200  \n",
       "75%      0.000000   31.000000  \n",
       "max      6.000000  512.329200  "
      ]
     },
     "execution_count": 36,
     "metadata": {},
     "output_type": "execute_result"
    }
   ],
   "source": [
    "data.describe()"
   ]
  },
  {
   "cell_type": "code",
   "execution_count": 37,
   "id": "d98c2602",
   "metadata": {},
   "outputs": [
    {
     "name": "stdout",
     "output_type": "stream",
     "text": [
      "<class 'pandas.core.frame.DataFrame'>\n",
      "RangeIndex: 891 entries, 0 to 890\n",
      "Data columns (total 12 columns):\n",
      " #   Column       Non-Null Count  Dtype  \n",
      "---  ------       --------------  -----  \n",
      " 0   PassengerId  891 non-null    int64  \n",
      " 1   Survived     891 non-null    int64  \n",
      " 2   Pclass       891 non-null    int64  \n",
      " 3   Name         891 non-null    object \n",
      " 4   Sex          891 non-null    object \n",
      " 5   Age          714 non-null    float64\n",
      " 6   SibSp        891 non-null    int64  \n",
      " 7   Parch        891 non-null    int64  \n",
      " 8   Ticket       891 non-null    object \n",
      " 9   Fare         891 non-null    float64\n",
      " 10  Cabin        204 non-null    object \n",
      " 11  Embarked     889 non-null    object \n",
      "dtypes: float64(2), int64(5), object(5)\n",
      "memory usage: 83.7+ KB\n"
     ]
    }
   ],
   "source": [
    "data.info()"
   ]
  },
  {
   "cell_type": "code",
   "execution_count": 38,
   "id": "2175567d",
   "metadata": {},
   "outputs": [
    {
     "name": "stdout",
     "output_type": "stream",
     "text": [
      "연속형 변수 카운트: 7\n"
     ]
    }
   ],
   "source": [
    "numerical_feats= data.dtypes[data.dtypes == \"int64\"].index\n",
    "numerical_feats = numerical_feats.append(data.dtypes[data.dtypes ==\"float64\"].index)\n",
    "print(\"연속형 변수 카운트:\", len(numerical_feats))"
   ]
  },
  {
   "cell_type": "code",
   "execution_count": 39,
   "id": "12ea4525",
   "metadata": {},
   "outputs": [
    {
     "data": {
      "text/plain": [
       "Index(['PassengerId', 'Survived', 'Pclass', 'SibSp', 'Parch', 'Age', 'Fare'], dtype='object')"
      ]
     },
     "execution_count": 39,
     "metadata": {},
     "output_type": "execute_result"
    }
   ],
   "source": [
    "numerical_feats"
   ]
  },
  {
   "cell_type": "code",
   "execution_count": 40,
   "id": "8e0739f8",
   "metadata": {},
   "outputs": [
    {
     "name": "stdout",
     "output_type": "stream",
     "text": [
      "PassengerId     Skewness: 00.00   Kurtosis:-01.20\n",
      "Survived        Skewness: 00.48   Kurtosis:-01.78\n",
      "Pclass          Skewness: -0.63   Kurtosis:-01.28\n",
      "SibSp           Skewness: 03.70   Kurtosis:017.88\n",
      "Parch           Skewness: 02.75   Kurtosis:009.78\n",
      "Age             Skewness: 00.39   Kurtosis:000.18\n",
      "Fare            Skewness: 04.79   Kurtosis:033.40\n"
     ]
    }
   ],
   "source": [
    "for col in numerical_feats:\n",
    "    print('{:15}'.format(col),\n",
    "         'Skewness: {:05.2f}'.format(data[col].skew()),' ',\n",
    "         'Kurtosis:{:06.2f}'.format(data[col].kurt())\n",
    "         )"
   ]
  },
  {
   "cell_type": "code",
   "execution_count": 41,
   "id": "dbd2e27e",
   "metadata": {},
   "outputs": [
    {
     "data": {
      "text/plain": [
       "<AxesSubplot:xlabel='Fare', ylabel='Density'>"
      ]
     },
     "execution_count": 41,
     "metadata": {},
     "output_type": "execute_result"
    },
    {
     "data": {
      "image/png": "[encoded data removed]",
      "text/plain": [
       "<Figure size 576x288 with 1 Axes>"
      ]
     },
     "metadata": {},
     "output_type": "display_data"
    }
   ],
   "source": [
    "f, ax = plt.subplots(figsize=(8,4))\n",
    "\n",
    "sns.distplot(data[\"Fare\"])"
   ]
  },
  {
   "cell_type": "code",
   "execution_count": 42,
   "id": "0b93e7bb",
   "metadata": {},
   "outputs": [
    {
     "name": "stdout",
     "output_type": "stream",
     "text": [
      "Skewness: 0.395\n",
      "Kurtosis: 0.976\n"
     ]
    },
    {
     "data": {
      "image/png": "[encoded data removed]",
      "text/plain": [
       "<Figure size 576x288 with 1 Axes>"
      ]
     },
     "metadata": {},
     "output_type": "display_data"
    }
   ],
   "source": [
    "#로그 변환 수행\n",
    "data['Log_fare'] = np.log1p(data['Fare'])\n",
    "\n",
    "f, ax = plt.subplots(figsize=(8,4))\n",
    "sns.distplot(data['Log_fare'])\n",
    "print('Skewness: {:.3f}'.format(data[\"Log_fare\"].skew()))\n",
    "print('Kurtosis: {:.3f}'.format(data[\"Log_fare\"].kurt()))"
   ]
  },
  {
   "cell_type": "code",
   "execution_count": 43,
   "id": "1f322fa3",
   "metadata": {},
   "outputs": [
    {
     "data": {
      "image/png": "[encoded data removed]",
      "text/plain": [
       "<Figure size 720x360 with 2 Axes>"
      ]
     },
     "metadata": {},
     "output_type": "display_data"
    }
   ],
   "source": [
    "fig = plt.figure(figsize = (10,5))\n",
    "\n",
    "fig.add_subplot(1,2,1)\n",
    "res = stats.probplot(data['Fare'], plot= plt)\n",
    "\n",
    "fig.add_subplot(1,2,2)\n",
    "res = stats.probplot(data['Fare'], plot=plt)"
   ]
  },
  {
   "cell_type": "code",
   "execution_count": 44,
   "id": "c7e47d9c",
   "metadata": {},
   "outputs": [
    {
     "data": {
      "text/html": [
       "<div>\n",
       "<style scoped>\n",
       "    .dataframe tbody tr th:only-of-type {\n",
       "        vertical-align: middle;\n",
       "    }\n",
       "\n",
       "    .dataframe tbody tr th {\n",
       "        vertical-align: top;\n",
       "    }\n",
       "\n",
       "    .dataframe thead th {\n",
       "        text-align: right;\n",
       "    }\n",
       "</style>\n",
       "<table border=\"1\" class=\"dataframe\">\n",
       "  <thead>\n",
       "    <tr style=\"text-align: right;\">\n",
       "      <th></th>\n",
       "      <th>PassengerId</th>\n",
       "      <th>Survived</th>\n",
       "      <th>Pclass</th>\n",
       "      <th>Name</th>\n",
       "      <th>Sex</th>\n",
       "      <th>Age</th>\n",
       "      <th>SibSp</th>\n",
       "      <th>Parch</th>\n",
       "      <th>Ticket</th>\n",
       "      <th>Fare</th>\n",
       "      <th>Cabin</th>\n",
       "      <th>Embarked</th>\n",
       "    </tr>\n",
       "  </thead>\n",
       "  <tbody>\n",
       "    <tr>\n",
       "      <th>0</th>\n",
       "      <td>1</td>\n",
       "      <td>0</td>\n",
       "      <td>3</td>\n",
       "      <td>Braund, Mr. Owen Harris</td>\n",
       "      <td>male</td>\n",
       "      <td>22.0</td>\n",
       "      <td>1</td>\n",
       "      <td>0</td>\n",
       "      <td>A/5 21171</td>\n",
       "      <td>7.2500</td>\n",
       "      <td>NaN</td>\n",
       "      <td>S</td>\n",
       "    </tr>\n",
       "    <tr>\n",
       "      <th>1</th>\n",
       "      <td>2</td>\n",
       "      <td>1</td>\n",
       "      <td>1</td>\n",
       "      <td>Cumings, Mrs. John Bradley (Florence Briggs Th...</td>\n",
       "      <td>female</td>\n",
       "      <td>38.0</td>\n",
       "      <td>1</td>\n",
       "      <td>0</td>\n",
       "      <td>PC 17599</td>\n",
       "      <td>71.2833</td>\n",
       "      <td>C85</td>\n",
       "      <td>C</td>\n",
       "    </tr>\n",
       "    <tr>\n",
       "      <th>2</th>\n",
       "      <td>3</td>\n",
       "      <td>1</td>\n",
       "      <td>3</td>\n",
       "      <td>Heikkinen, Miss. Laina</td>\n",
       "      <td>female</td>\n",
       "      <td>26.0</td>\n",
       "      <td>0</td>\n",
       "      <td>0</td>\n",
       "      <td>STON/O2. 3101282</td>\n",
       "      <td>7.9250</td>\n",
       "      <td>NaN</td>\n",
       "      <td>S</td>\n",
       "    </tr>\n",
       "    <tr>\n",
       "      <th>3</th>\n",
       "      <td>4</td>\n",
       "      <td>1</td>\n",
       "      <td>1</td>\n",
       "      <td>Futrelle, Mrs. Jacques Heath (Lily May Peel)</td>\n",
       "      <td>female</td>\n",
       "      <td>35.0</td>\n",
       "      <td>1</td>\n",
       "      <td>0</td>\n",
       "      <td>113803</td>\n",
       "      <td>53.1000</td>\n",
       "      <td>C123</td>\n",
       "      <td>S</td>\n",
       "    </tr>\n",
       "    <tr>\n",
       "      <th>4</th>\n",
       "      <td>5</td>\n",
       "      <td>0</td>\n",
       "      <td>3</td>\n",
       "      <td>Allen, Mr. William Henry</td>\n",
       "      <td>male</td>\n",
       "      <td>35.0</td>\n",
       "      <td>0</td>\n",
       "      <td>0</td>\n",
       "      <td>373450</td>\n",
       "      <td>8.0500</td>\n",
       "      <td>NaN</td>\n",
       "      <td>S</td>\n",
       "    </tr>\n",
       "  </tbody>\n",
       "</table>\n",
       "</div>"
      ],
      "text/plain": [
       "   PassengerId  Survived  Pclass  \\\n",
       "0            1         0       3   \n",
       "1            2         1       1   \n",
       "2            3         1       3   \n",
       "3            4         1       1   \n",
       "4            5         0       3   \n",
       "\n",
       "                                                Name     Sex   Age  SibSp  \\\n",
       "0                            Braund, Mr. Owen Harris    male  22.0      1   \n",
       "1  Cumings, Mrs. John Bradley (Florence Briggs Th...  female  38.0      1   \n",
       "2                             Heikkinen, Miss. Laina  female  26.0      0   \n",
       "3       Futrelle, Mrs. Jacques Heath (Lily May Peel)  female  35.0      1   \n",
       "4                           Allen, Mr. William Henry    male  35.0      0   \n",
       "\n",
       "   Parch            Ticket     Fare Cabin Embarked  \n",
       "0      0         A/5 21171   7.2500   NaN        S  \n",
       "1      0          PC 17599  71.2833   C85        C  \n",
       "2      0  STON/O2. 3101282   7.9250   NaN        S  \n",
       "3      0            113803  53.1000  C123        S  \n",
       "4      0            373450   8.0500   NaN        S  "
      ]
     },
     "execution_count": 44,
     "metadata": {},
     "output_type": "execute_result"
    }
   ],
   "source": [
    "#train_test_data[0]:train data, train_test_data[1]:Test Data\n",
    "train_test_data[0].head()"
   ]
  },
  {
   "cell_type": "code",
   "execution_count": 45,
   "id": "275164bc",
   "metadata": {},
   "outputs": [
    {
     "data": {
      "text/html": [
       "<div>\n",
       "<style scoped>\n",
       "    .dataframe tbody tr th:only-of-type {\n",
       "        vertical-align: middle;\n",
       "    }\n",
       "\n",
       "    .dataframe tbody tr th {\n",
       "        vertical-align: top;\n",
       "    }\n",
       "\n",
       "    .dataframe thead th {\n",
       "        text-align: right;\n",
       "    }\n",
       "</style>\n",
       "<table border=\"1\" class=\"dataframe\">\n",
       "  <thead>\n",
       "    <tr style=\"text-align: right;\">\n",
       "      <th></th>\n",
       "      <th>PassengerId</th>\n",
       "      <th>Survived</th>\n",
       "      <th>Pclass</th>\n",
       "      <th>Name</th>\n",
       "      <th>Sex</th>\n",
       "      <th>Age</th>\n",
       "      <th>SibSp</th>\n",
       "      <th>Parch</th>\n",
       "      <th>Ticket</th>\n",
       "      <th>Fare</th>\n",
       "      <th>Cabin</th>\n",
       "      <th>Embarked</th>\n",
       "      <th>AgeScale</th>\n",
       "    </tr>\n",
       "  </thead>\n",
       "  <tbody>\n",
       "    <tr>\n",
       "      <th>0</th>\n",
       "      <td>1</td>\n",
       "      <td>0</td>\n",
       "      <td>3</td>\n",
       "      <td>Braund, Mr. Owen Harris</td>\n",
       "      <td>male</td>\n",
       "      <td>22.0</td>\n",
       "      <td>1</td>\n",
       "      <td>0</td>\n",
       "      <td>A/5 21171</td>\n",
       "      <td>7.2500</td>\n",
       "      <td>NaN</td>\n",
       "      <td>S</td>\n",
       "      <td>0.271174</td>\n",
       "    </tr>\n",
       "    <tr>\n",
       "      <th>1</th>\n",
       "      <td>2</td>\n",
       "      <td>1</td>\n",
       "      <td>1</td>\n",
       "      <td>Cumings, Mrs. John Bradley (Florence Briggs Th...</td>\n",
       "      <td>female</td>\n",
       "      <td>38.0</td>\n",
       "      <td>1</td>\n",
       "      <td>0</td>\n",
       "      <td>PC 17599</td>\n",
       "      <td>71.2833</td>\n",
       "      <td>C85</td>\n",
       "      <td>C</td>\n",
       "      <td>0.472229</td>\n",
       "    </tr>\n",
       "    <tr>\n",
       "      <th>2</th>\n",
       "      <td>3</td>\n",
       "      <td>1</td>\n",
       "      <td>3</td>\n",
       "      <td>Heikkinen, Miss. Laina</td>\n",
       "      <td>female</td>\n",
       "      <td>26.0</td>\n",
       "      <td>0</td>\n",
       "      <td>0</td>\n",
       "      <td>STON/O2. 3101282</td>\n",
       "      <td>7.9250</td>\n",
       "      <td>NaN</td>\n",
       "      <td>S</td>\n",
       "      <td>0.321438</td>\n",
       "    </tr>\n",
       "    <tr>\n",
       "      <th>3</th>\n",
       "      <td>4</td>\n",
       "      <td>1</td>\n",
       "      <td>1</td>\n",
       "      <td>Futrelle, Mrs. Jacques Heath (Lily May Peel)</td>\n",
       "      <td>female</td>\n",
       "      <td>35.0</td>\n",
       "      <td>1</td>\n",
       "      <td>0</td>\n",
       "      <td>113803</td>\n",
       "      <td>53.1000</td>\n",
       "      <td>C123</td>\n",
       "      <td>S</td>\n",
       "      <td>0.434531</td>\n",
       "    </tr>\n",
       "    <tr>\n",
       "      <th>4</th>\n",
       "      <td>5</td>\n",
       "      <td>0</td>\n",
       "      <td>3</td>\n",
       "      <td>Allen, Mr. William Henry</td>\n",
       "      <td>male</td>\n",
       "      <td>35.0</td>\n",
       "      <td>0</td>\n",
       "      <td>0</td>\n",
       "      <td>373450</td>\n",
       "      <td>8.0500</td>\n",
       "      <td>NaN</td>\n",
       "      <td>S</td>\n",
       "      <td>0.434531</td>\n",
       "    </tr>\n",
       "  </tbody>\n",
       "</table>\n",
       "</div>"
      ],
      "text/plain": [
       "   PassengerId  Survived  Pclass  \\\n",
       "0            1         0       3   \n",
       "1            2         1       1   \n",
       "2            3         1       3   \n",
       "3            4         1       1   \n",
       "4            5         0       3   \n",
       "\n",
       "                                                Name     Sex   Age  SibSp  \\\n",
       "0                            Braund, Mr. Owen Harris    male  22.0      1   \n",
       "1  Cumings, Mrs. John Bradley (Florence Briggs Th...  female  38.0      1   \n",
       "2                             Heikkinen, Miss. Laina  female  26.0      0   \n",
       "3       Futrelle, Mrs. Jacques Heath (Lily May Peel)  female  35.0      1   \n",
       "4                           Allen, Mr. William Henry    male  35.0      0   \n",
       "\n",
       "   Parch            Ticket     Fare Cabin Embarked  AgeScale  \n",
       "0      0         A/5 21171   7.2500   NaN        S  0.271174  \n",
       "1      0          PC 17599  71.2833   C85        C  0.472229  \n",
       "2      0  STON/O2. 3101282   7.9250   NaN        S  0.321438  \n",
       "3      0            113803  53.1000  C123        S  0.434531  \n",
       "4      0            373450   8.0500   NaN        S  0.434531  "
      ]
     },
     "execution_count": 45,
     "metadata": {},
     "output_type": "execute_result"
    }
   ],
   "source": [
    "scaler = MinMaxScaler()\n",
    "\n",
    "for dataset in train_test_data:\n",
    "    array = dataset['Age'].values.reshape(-1,1)\n",
    "    scaler.fit(array)\n",
    "    dataset['AgeScale'] = pd.Series(scaler.transform(array).reshape(-1))\n",
    "    \n",
    "train_test_data[0].head()"
   ]
  },
  {
   "cell_type": "code",
   "execution_count": 46,
   "id": "957da52d",
   "metadata": {},
   "outputs": [
    {
     "name": "stdout",
     "output_type": "stream",
     "text": [
      "0.42\n",
      "80.0\n",
      "            \n",
      "0.0\n",
      "1.0\n"
     ]
    }
   ],
   "source": [
    "print(train['Age'].min())\n",
    "print(train['Age'].max())\n",
    "print('            ')\n",
    "print(train['AgeScale'].min())\n",
    "print(train['AgeScale'].max())"
   ]
  },
  {
   "cell_type": "code",
   "execution_count": 47,
   "id": "03718187",
   "metadata": {},
   "outputs": [
    {
     "data": {
      "image/png": "[encoded data removed]",
      "text/plain": [
       "<Figure size 864x432 with 2 Axes>"
      ]
     },
     "metadata": {},
     "output_type": "display_data"
    }
   ],
   "source": [
    "plt.figure(figsize=(12,6))\n",
    "plt.subplot(1,2,1)\n",
    "scatter_plot = sns.scatterplot(x='Age',y='Fare',hue='Sex',data=train)\n",
    "plt.title('Age (Original)', fontsize=16)\n",
    "\n",
    "plt.subplot(1,2,2)\n",
    "scatter_plot = sns.scatterplot(x='Age',y='Fare',hue='Sex',data=train)\n",
    "plt.title('Age (Scaled)', fontsize=16)\n",
    "\n",
    "plt.show()"
   ]
  },
  {
   "cell_type": "code",
   "execution_count": 48,
   "id": "343f28b7",
   "metadata": {},
   "outputs": [
    {
     "data": {
      "text/html": [
       "<div>\n",
       "<style scoped>\n",
       "    .dataframe tbody tr th:only-of-type {\n",
       "        vertical-align: middle;\n",
       "    }\n",
       "\n",
       "    .dataframe tbody tr th {\n",
       "        vertical-align: top;\n",
       "    }\n",
       "\n",
       "    .dataframe thead th {\n",
       "        text-align: right;\n",
       "    }\n",
       "</style>\n",
       "<table border=\"1\" class=\"dataframe\">\n",
       "  <thead>\n",
       "    <tr style=\"text-align: right;\">\n",
       "      <th></th>\n",
       "      <th>PassengerId</th>\n",
       "      <th>Survived</th>\n",
       "      <th>Pclass</th>\n",
       "      <th>Name</th>\n",
       "      <th>Sex</th>\n",
       "      <th>Age</th>\n",
       "      <th>SibSp</th>\n",
       "      <th>Parch</th>\n",
       "      <th>Ticket</th>\n",
       "      <th>Fare</th>\n",
       "      <th>Cabin</th>\n",
       "      <th>Embarked</th>\n",
       "      <th>AgeScale</th>\n",
       "    </tr>\n",
       "  </thead>\n",
       "  <tbody>\n",
       "    <tr>\n",
       "      <th>0</th>\n",
       "      <td>1</td>\n",
       "      <td>0</td>\n",
       "      <td>3</td>\n",
       "      <td>Braund, Mr. Owen Harris</td>\n",
       "      <td>male</td>\n",
       "      <td>22.0</td>\n",
       "      <td>1</td>\n",
       "      <td>0</td>\n",
       "      <td>A/5 21171</td>\n",
       "      <td>7.2500</td>\n",
       "      <td>NaN</td>\n",
       "      <td>S</td>\n",
       "      <td>0.271174</td>\n",
       "    </tr>\n",
       "    <tr>\n",
       "      <th>1</th>\n",
       "      <td>2</td>\n",
       "      <td>1</td>\n",
       "      <td>1</td>\n",
       "      <td>Cumings, Mrs. John Bradley (Florence Briggs Th...</td>\n",
       "      <td>female</td>\n",
       "      <td>38.0</td>\n",
       "      <td>1</td>\n",
       "      <td>0</td>\n",
       "      <td>PC 17599</td>\n",
       "      <td>71.2833</td>\n",
       "      <td>C85</td>\n",
       "      <td>C</td>\n",
       "      <td>0.472229</td>\n",
       "    </tr>\n",
       "    <tr>\n",
       "      <th>2</th>\n",
       "      <td>3</td>\n",
       "      <td>1</td>\n",
       "      <td>3</td>\n",
       "      <td>Heikkinen, Miss. Laina</td>\n",
       "      <td>female</td>\n",
       "      <td>26.0</td>\n",
       "      <td>0</td>\n",
       "      <td>0</td>\n",
       "      <td>STON/O2. 3101282</td>\n",
       "      <td>7.9250</td>\n",
       "      <td>NaN</td>\n",
       "      <td>S</td>\n",
       "      <td>0.321438</td>\n",
       "    </tr>\n",
       "    <tr>\n",
       "      <th>3</th>\n",
       "      <td>4</td>\n",
       "      <td>1</td>\n",
       "      <td>1</td>\n",
       "      <td>Futrelle, Mrs. Jacques Heath (Lily May Peel)</td>\n",
       "      <td>female</td>\n",
       "      <td>35.0</td>\n",
       "      <td>1</td>\n",
       "      <td>0</td>\n",
       "      <td>113803</td>\n",
       "      <td>53.1000</td>\n",
       "      <td>C123</td>\n",
       "      <td>S</td>\n",
       "      <td>0.434531</td>\n",
       "    </tr>\n",
       "    <tr>\n",
       "      <th>4</th>\n",
       "      <td>5</td>\n",
       "      <td>0</td>\n",
       "      <td>3</td>\n",
       "      <td>Allen, Mr. William Henry</td>\n",
       "      <td>male</td>\n",
       "      <td>35.0</td>\n",
       "      <td>0</td>\n",
       "      <td>0</td>\n",
       "      <td>373450</td>\n",
       "      <td>8.0500</td>\n",
       "      <td>NaN</td>\n",
       "      <td>S</td>\n",
       "      <td>0.434531</td>\n",
       "    </tr>\n",
       "  </tbody>\n",
       "</table>\n",
       "</div>"
      ],
      "text/plain": [
       "   PassengerId  Survived  Pclass  \\\n",
       "0            1         0       3   \n",
       "1            2         1       1   \n",
       "2            3         1       3   \n",
       "3            4         1       1   \n",
       "4            5         0       3   \n",
       "\n",
       "                                                Name     Sex   Age  SibSp  \\\n",
       "0                            Braund, Mr. Owen Harris    male  22.0      1   \n",
       "1  Cumings, Mrs. John Bradley (Florence Briggs Th...  female  38.0      1   \n",
       "2                             Heikkinen, Miss. Laina  female  26.0      0   \n",
       "3       Futrelle, Mrs. Jacques Heath (Lily May Peel)  female  35.0      1   \n",
       "4                           Allen, Mr. William Henry    male  35.0      0   \n",
       "\n",
       "   Parch            Ticket     Fare Cabin Embarked  AgeScale  \n",
       "0      0         A/5 21171   7.2500   NaN        S  0.271174  \n",
       "1      0          PC 17599  71.2833   C85        C  0.472229  \n",
       "2      0  STON/O2. 3101282   7.9250   NaN        S  0.321438  \n",
       "3      0            113803  53.1000  C123        S  0.434531  \n",
       "4      0            373450   8.0500   NaN        S  0.434531  "
      ]
     },
     "execution_count": 48,
     "metadata": {},
     "output_type": "execute_result"
    }
   ],
   "source": [
    "#train_test_data[0]:train data, train_test_data[1]:Test Data\n",
    "train_test_data[0].head()"
   ]
  },
  {
   "cell_type": "code",
   "execution_count": 49,
   "id": "9b980818",
   "metadata": {},
   "outputs": [
    {
     "data": {
      "text/html": [
       "<div>\n",
       "<style scoped>\n",
       "    .dataframe tbody tr th:only-of-type {\n",
       "        vertical-align: middle;\n",
       "    }\n",
       "\n",
       "    .dataframe tbody tr th {\n",
       "        vertical-align: top;\n",
       "    }\n",
       "\n",
       "    .dataframe thead th {\n",
       "        text-align: right;\n",
       "    }\n",
       "</style>\n",
       "<table border=\"1\" class=\"dataframe\">\n",
       "  <thead>\n",
       "    <tr style=\"text-align: right;\">\n",
       "      <th></th>\n",
       "      <th>PassengerId</th>\n",
       "      <th>Survived</th>\n",
       "      <th>Pclass</th>\n",
       "      <th>Name</th>\n",
       "      <th>Sex</th>\n",
       "      <th>Age</th>\n",
       "      <th>SibSp</th>\n",
       "      <th>Parch</th>\n",
       "      <th>Ticket</th>\n",
       "      <th>Fare</th>\n",
       "      <th>Cabin</th>\n",
       "      <th>Embarked</th>\n",
       "      <th>AgeScale</th>\n",
       "      <th>FareScale</th>\n",
       "    </tr>\n",
       "  </thead>\n",
       "  <tbody>\n",
       "    <tr>\n",
       "      <th>0</th>\n",
       "      <td>1</td>\n",
       "      <td>0</td>\n",
       "      <td>3</td>\n",
       "      <td>Braund, Mr. Owen Harris</td>\n",
       "      <td>male</td>\n",
       "      <td>22.0</td>\n",
       "      <td>1</td>\n",
       "      <td>0</td>\n",
       "      <td>A/5 21171</td>\n",
       "      <td>7.2500</td>\n",
       "      <td>NaN</td>\n",
       "      <td>S</td>\n",
       "      <td>0.271174</td>\n",
       "      <td>0.014151</td>\n",
       "    </tr>\n",
       "    <tr>\n",
       "      <th>1</th>\n",
       "      <td>2</td>\n",
       "      <td>1</td>\n",
       "      <td>1</td>\n",
       "      <td>Cumings, Mrs. John Bradley (Florence Briggs Th...</td>\n",
       "      <td>female</td>\n",
       "      <td>38.0</td>\n",
       "      <td>1</td>\n",
       "      <td>0</td>\n",
       "      <td>PC 17599</td>\n",
       "      <td>71.2833</td>\n",
       "      <td>C85</td>\n",
       "      <td>C</td>\n",
       "      <td>0.472229</td>\n",
       "      <td>0.139136</td>\n",
       "    </tr>\n",
       "    <tr>\n",
       "      <th>2</th>\n",
       "      <td>3</td>\n",
       "      <td>1</td>\n",
       "      <td>3</td>\n",
       "      <td>Heikkinen, Miss. Laina</td>\n",
       "      <td>female</td>\n",
       "      <td>26.0</td>\n",
       "      <td>0</td>\n",
       "      <td>0</td>\n",
       "      <td>STON/O2. 3101282</td>\n",
       "      <td>7.9250</td>\n",
       "      <td>NaN</td>\n",
       "      <td>S</td>\n",
       "      <td>0.321438</td>\n",
       "      <td>0.015469</td>\n",
       "    </tr>\n",
       "    <tr>\n",
       "      <th>3</th>\n",
       "      <td>4</td>\n",
       "      <td>1</td>\n",
       "      <td>1</td>\n",
       "      <td>Futrelle, Mrs. Jacques Heath (Lily May Peel)</td>\n",
       "      <td>female</td>\n",
       "      <td>35.0</td>\n",
       "      <td>1</td>\n",
       "      <td>0</td>\n",
       "      <td>113803</td>\n",
       "      <td>53.1000</td>\n",
       "      <td>C123</td>\n",
       "      <td>S</td>\n",
       "      <td>0.434531</td>\n",
       "      <td>0.103644</td>\n",
       "    </tr>\n",
       "    <tr>\n",
       "      <th>4</th>\n",
       "      <td>5</td>\n",
       "      <td>0</td>\n",
       "      <td>3</td>\n",
       "      <td>Allen, Mr. William Henry</td>\n",
       "      <td>male</td>\n",
       "      <td>35.0</td>\n",
       "      <td>0</td>\n",
       "      <td>0</td>\n",
       "      <td>373450</td>\n",
       "      <td>8.0500</td>\n",
       "      <td>NaN</td>\n",
       "      <td>S</td>\n",
       "      <td>0.434531</td>\n",
       "      <td>0.015713</td>\n",
       "    </tr>\n",
       "  </tbody>\n",
       "</table>\n",
       "</div>"
      ],
      "text/plain": [
       "   PassengerId  Survived  Pclass  \\\n",
       "0            1         0       3   \n",
       "1            2         1       1   \n",
       "2            3         1       3   \n",
       "3            4         1       1   \n",
       "4            5         0       3   \n",
       "\n",
       "                                                Name     Sex   Age  SibSp  \\\n",
       "0                            Braund, Mr. Owen Harris    male  22.0      1   \n",
       "1  Cumings, Mrs. John Bradley (Florence Briggs Th...  female  38.0      1   \n",
       "2                             Heikkinen, Miss. Laina  female  26.0      0   \n",
       "3       Futrelle, Mrs. Jacques Heath (Lily May Peel)  female  35.0      1   \n",
       "4                           Allen, Mr. William Henry    male  35.0      0   \n",
       "\n",
       "   Parch            Ticket     Fare Cabin Embarked  AgeScale  FareScale  \n",
       "0      0         A/5 21171   7.2500   NaN        S  0.271174   0.014151  \n",
       "1      0          PC 17599  71.2833   C85        C  0.472229   0.139136  \n",
       "2      0  STON/O2. 3101282   7.9250   NaN        S  0.321438   0.015469  \n",
       "3      0            113803  53.1000  C123        S  0.434531   0.103644  \n",
       "4      0            373450   8.0500   NaN        S  0.434531   0.015713  "
      ]
     },
     "execution_count": 49,
     "metadata": {},
     "output_type": "execute_result"
    }
   ],
   "source": [
    "for datase in train_test_data:\n",
    "    dataset['Fare'].fillna(dataset.groupby('Pclass')['Fare'].transform('median'), inplace = True)\n",
    "\n",
    "for dataset in train_test_data:\n",
    "    array = dataset['Fare'].values.reshape(-1,1)\n",
    "    scaler.fit(array)\n",
    "    dataset['FareScale'] = pd.Series(scaler.transform(array).reshape(-1))\n",
    "    \n",
    "train_test_data[0].head()"
   ]
  },
  {
   "cell_type": "code",
   "execution_count": 50,
   "id": "fa2a78d7",
   "metadata": {},
   "outputs": [
    {
     "name": "stdout",
     "output_type": "stream",
     "text": [
      "32.2042079685746\n",
      "2469.436845743117\n",
      "            \n",
      "0.06285842768394748\n",
      "0.009408051926943503\n"
     ]
    }
   ],
   "source": [
    "print(train['Fare'].mean())\n",
    "print(train['Fare'].var())\n",
    "print('            ')\n",
    "print(train['FareScale'].mean())\n",
    "print(train['FareScale'].var())"
   ]
  },
  {
   "cell_type": "code",
   "execution_count": 51,
   "id": "0146e227",
   "metadata": {},
   "outputs": [
    {
     "data": {
      "image/png": "[encoded data removed]",
      "text/plain": [
       "<Figure size 864x432 with 2 Axes>"
      ]
     },
     "metadata": {},
     "output_type": "display_data"
    }
   ],
   "source": [
    "plt.figure(figsize=(12,6))\n",
    "plt.subplot(1,2,1)\n",
    "scatter_plot = sns.scatterplot(x='Fare',y='AgeScale',hue='Sex',data=train)\n",
    "plt.title('Fare (Original)', fontsize=16)\n",
    "\n",
    "plt.subplot(1,2,2)\n",
    "scatter_plot = sns.scatterplot(x='Fare',y='AgeScale',hue='Sex',data=train)\n",
    "plt.title('Fare (Scaled)', fontsize=16)\n",
    "\n",
    "plt.show()"
   ]
  },
  {
   "cell_type": "code",
   "execution_count": 52,
   "id": "d311d0d9",
   "metadata": {},
   "outputs": [
    {
     "data": {
      "image/png": "[encoded data removed]",
      "text/plain": [
       "<Figure size 864x432 with 2 Axes>"
      ]
     },
     "metadata": {},
     "output_type": "display_data"
    }
   ],
   "source": [
    "plt.figure(figsize=(12,6))\n",
    "plt.subplot(1,2,1)\n",
    "dis_plot = sns.distplot(train['Fare'],label='Fare')\n",
    "plt.title('Fare (Original)', fontsize=16)\n",
    "\n",
    "plt.subplot(1,2,2)\n",
    "dis_plot = sns.distplot(train['FareScale'],label='FareScale')\n",
    "plt.title('Fare (Scaled)', fontsize=16)\n",
    "\n",
    "plt.show()"
   ]
  },
  {
   "cell_type": "code",
   "execution_count": null,
   "id": "31992f77",
   "metadata": {},
   "outputs": [],
   "source": []
  },
  {
   "cell_type": "markdown",
   "id": "1f270fb3",
   "metadata": {},
   "source": [
    "<h1>실습 7</h1>"
   ]
  },
  {
   "cell_type": "code",
   "execution_count": 53,
   "id": "edce4667",
   "metadata": {},
   "outputs": [
    {
     "name": "stdout",
     "output_type": "stream",
     "text": [
      "Collecting imblearn\n",
      "  Using cached imblearn-0.0-py2.py3-none-any.whl (1.9 kB)\n",
      "Collecting imbalanced-learn\n",
      "  Using cached imbalanced_learn-0.9.1-py3-none-any.whl (199 kB)\n",
      "Requirement already satisfied: joblib>=1.0.0 in c:\\users\\user\\anaconda3\\lib\\site-packages (from imbalanced-learn->imblearn) (1.1.0)\n",
      "Requirement already satisfied: scikit-learn>=1.1.0 in c:\\users\\user\\anaconda3\\lib\\site-packages (from imbalanced-learn->imblearn) (1.1.1)\n",
      "Requirement already satisfied: scipy>=1.3.2 in c:\\users\\user\\anaconda3\\lib\\site-packages (from imbalanced-learn->imblearn) (1.7.3)\n",
      "Requirement already satisfied: threadpoolctl>=2.0.0 in c:\\users\\user\\anaconda3\\lib\\site-packages (from imbalanced-learn->imblearn) (2.2.0)\n",
      "Requirement already satisfied: numpy>=1.17.3 in c:\\users\\user\\anaconda3\\lib\\site-packages (from imbalanced-learn->imblearn) (1.21.5)\n",
      "Installing collected packages: imbalanced-learn, imblearn\n",
      "Successfully installed imbalanced-learn-0.9.1 imblearn-0.0\n"
     ]
    }
   ],
   "source": [
    "!pip install imblearn"
   ]
  },
  {
   "cell_type": "code",
   "execution_count": 114,
   "id": "9bb5d262",
   "metadata": {},
   "outputs": [],
   "source": [
    "from sklearn.datasets import make_classification\n",
    "\n",
    "from imblearn.under_sampling import *\n",
    "\n",
    "from imblearn.over_sampling import *\n",
    "\n",
    "from sklearn.ensemble import RandomForestClassifier\n",
    "from sklearn.model_selection import *\n",
    "from collections import Counter\n",
    "from matplotlib import pyplot"
   ]
  },
  {
   "cell_type": "code",
   "execution_count": 87,
   "id": "a1386e90",
   "metadata": {},
   "outputs": [],
   "source": [
    "def Randomforest_Result(x,y,title):\n",
    "    rf = RandomForestClassifier(criterion='entropy')\n",
    "    cv_rf = RepeatedStratifiedKFold(n_splits=10, n_repeats=3,random_state=1)\n",
    "    scores = cross_validate(rf,x,y,scoring='f1',cv=cv_rf,n_jobs=-1)\n",
    "    print(title,':','3-Fold CV f1 score: %.4f' % np.mean(scores['test_score']))\n",
    "    return"
   ]
  },
  {
   "cell_type": "code",
   "execution_count": 73,
   "id": "c0be2078",
   "metadata": {},
   "outputs": [
    {
     "name": "stdout",
     "output_type": "stream",
     "text": [
      "(10000, 20)\n"
     ]
    },
    {
     "data": {
      "text/plain": [
       "(10000,)"
      ]
     },
     "execution_count": 73,
     "metadata": {},
     "output_type": "execute_result"
    }
   ],
   "source": [
    "X_data, y_class = make_classification(n_classes = 2, \n",
    "                                      class_sep = 2, \n",
    "                                      n_samples=10000,\n",
    "                                      n_features=20, \n",
    "                                      weights=[0.9,0.1],\n",
    "                                      flip_y=0,\n",
    "                                      n_clusters_per_class=1,\n",
    "                                      random_state=10)\n",
    "print(X_data.shape)\n",
    "y_class.shape"
   ]
  },
  {
   "cell_type": "code",
   "execution_count": 111,
   "id": "570fb5cb",
   "metadata": {},
   "outputs": [],
   "source": [
    "def count_and_plot(y): \n",
    "    counter = Counter(y)\n",
    "    for k,v in counter.items():\n",
    "        print('Class=%d, n=%d (%.3f%%)' % (k, v, v / len(y) * 100))\n",
    "    pyplot.bar(counter.keys(), counter.values())\n",
    "    pyplot.show()"
   ]
  },
  {
   "cell_type": "code",
   "execution_count": 115,
   "id": "1c571744",
   "metadata": {},
   "outputs": [
    {
     "name": "stdout",
     "output_type": "stream",
     "text": [
      "Class=0, n=9000 (90.000%)\n",
      "Class=1, n=1000 (10.000%)\n"
     ]
    },
    {
     "data": {
      "image/png": "[encoded data removed]",
      "text/plain": [
       "<Figure size 360x216 with 1 Axes>"
      ]
     },
     "metadata": {},
     "output_type": "display_data"
    }
   ],
   "source": [
    "plt.figure(figsize=(5,3))\n",
    "count_and_plot(y_class)"
   ]
  },
  {
   "cell_type": "code",
   "execution_count": 88,
   "id": "fad97b99",
   "metadata": {},
   "outputs": [
    {
     "name": "stdout",
     "output_type": "stream",
     "text": [
      "언더 샘플링_원본 데이터 결과 : 3-Fold CV f1 score: 0.9884\n"
     ]
    }
   ],
   "source": [
    "Randomforest_Result(X_data,y_class,'언더 샘플링_원본 데이터 결과')"
   ]
  },
  {
   "cell_type": "code",
   "execution_count": 118,
   "id": "8ec80811",
   "metadata": {},
   "outputs": [],
   "source": [
    "under_random = RandomUnderSampler(sampling_strategy='majority')\n",
    "X_random, y_random = under_random.fit_resample(X_data,y_class)"
   ]
  },
  {
   "cell_type": "code",
   "execution_count": 120,
   "id": "2245afb2",
   "metadata": {},
   "outputs": [
    {
     "name": "stdout",
     "output_type": "stream",
     "text": [
      "Class=0, n=1000 (50.000%)\n",
      "Class=1, n=1000 (50.000%)\n"
     ]
    },
    {
     "data": {
      "image/png": "[encoded data removed]",
      "text/plain": [
       "<Figure size 360x216 with 1 Axes>"
      ]
     },
     "metadata": {},
     "output_type": "display_data"
    }
   ],
   "source": [
    "plt.figure(figsize=(5,3))\n",
    "count_and_plot(y_random)"
   ]
  },
  {
   "cell_type": "code",
   "execution_count": 121,
   "id": "51588f26",
   "metadata": {},
   "outputs": [
    {
     "name": "stdout",
     "output_type": "stream",
     "text": [
      "언더 샘플링 랜덤 언더 샘플링 데이터 결과 : 3-Fold CV f1 score: 0.9937\n"
     ]
    }
   ],
   "source": [
    "Randomforest_Result(X_random, y_random,\"언더 샘플링 랜덤 언더 샘플링 데이터 결과\")"
   ]
  },
  {
   "cell_type": "code",
   "execution_count": 122,
   "id": "f2263f8b",
   "metadata": {},
   "outputs": [],
   "source": [
    "under_random_05=RandomUnderSampler(sampling_strategy=0.5)\n",
    "X_random_05, y_random_05 = under_random_05.fit_resample(X_data,y_class)"
   ]
  },
  {
   "cell_type": "code",
   "execution_count": 124,
   "id": "d0909614",
   "metadata": {},
   "outputs": [
    {
     "name": "stdout",
     "output_type": "stream",
     "text": [
      "Class=0, n=2000 (66.667%)\n",
      "Class=1, n=1000 (33.333%)\n"
     ]
    },
    {
     "data": {
      "image/png": "[encoded data removed]",
      "text/plain": [
       "<Figure size 360x216 with 1 Axes>"
      ]
     },
     "metadata": {},
     "output_type": "display_data"
    }
   ],
   "source": [
    "plt.figure(figsize=(5,3))\n",
    "count_and_plot(y_random_05)"
   ]
  },
  {
   "cell_type": "code",
   "execution_count": 126,
   "id": "1ff249c8",
   "metadata": {},
   "outputs": [
    {
     "name": "stdout",
     "output_type": "stream",
     "text": [
      "언더 샘플링 랜덤언더 샘플링 비율:0.5_데이터 결과 : 3-Fold CV f1 score: 0.9910\n"
     ]
    }
   ],
   "source": [
    "Randomforest_Result(X_random_05, y_random_05,\"언더 샘플링 랜덤언더 샘플링 비율:0.5_데이터 결과\")"
   ]
  },
  {
   "cell_type": "code",
   "execution_count": 127,
   "id": "e40a9386",
   "metadata": {},
   "outputs": [],
   "source": [
    "tl= TomekLinks()\n",
    "X_tl,y_tl = tl.fit_resample(X_data,y_class)"
   ]
  },
  {
   "cell_type": "code",
   "execution_count": 129,
   "id": "478d5b62",
   "metadata": {},
   "outputs": [
    {
     "name": "stdout",
     "output_type": "stream",
     "text": [
      "Class=0, n=8993 (89.993%)\n",
      "Class=1, n=1000 (10.007%)\n"
     ]
    },
    {
     "data": {
      "image/png": "[encoded data removed]",
      "text/plain": [
       "<Figure size 360x216 with 1 Axes>"
      ]
     },
     "metadata": {},
     "output_type": "display_data"
    }
   ],
   "source": [
    "plt.figure(figsize=(5,3))\n",
    "count_and_plot(y_tl)"
   ]
  },
  {
   "cell_type": "code",
   "execution_count": 128,
   "id": "aacc4436",
   "metadata": {},
   "outputs": [
    {
     "name": "stdout",
     "output_type": "stream",
     "text": [
      "언더 샘플링_토멕링크_데이터 결과 : 3-Fold CV f1 score: 0.9889\n"
     ]
    }
   ],
   "source": [
    "Randomforest_Result(X_tl,y_tl,\"언더 샘플링_토멕링크_데이터 결과\")"
   ]
  },
  {
   "cell_type": "code",
   "execution_count": 130,
   "id": "e32ec690",
   "metadata": {},
   "outputs": [],
   "source": [
    "oss = OneSidedSelection(random_state=42)\n",
    "X_oss,y_oss=oss.fit_resample(X_data,y_class)"
   ]
  },
  {
   "cell_type": "code",
   "execution_count": 131,
   "id": "87cd8d42",
   "metadata": {},
   "outputs": [
    {
     "name": "stdout",
     "output_type": "stream",
     "text": [
      "Class=0, n=7666 (88.461%)\n",
      "Class=1, n=1000 (11.539%)\n"
     ]
    },
    {
     "data": {
      "image/png": "[encoded data removed]",
      "text/plain": [
       "<Figure size 360x216 with 1 Axes>"
      ]
     },
     "metadata": {},
     "output_type": "display_data"
    }
   ],
   "source": [
    "plt.figure(figsize=(5,3))\n",
    "count_and_plot(y_oss)"
   ]
  },
  {
   "cell_type": "code",
   "execution_count": 132,
   "id": "0a0a91a1",
   "metadata": {},
   "outputs": [
    {
     "name": "stdout",
     "output_type": "stream",
     "text": [
      "언더 샘플링_OSS_데이터 결과 : 3-Fold CV f1 score: 0.9891\n"
     ]
    }
   ],
   "source": [
    "Randomforest_Result(X_oss,y_oss,\"언더 샘플링_OSS_데이터 결과\")"
   ]
  },
  {
   "cell_type": "code",
   "execution_count": 134,
   "id": "3b0ae674",
   "metadata": {},
   "outputs": [
    {
     "name": "stdout",
     "output_type": "stream",
     "text": [
      "(10000, 20)\n",
      "Class=0, n=9000 (90.000%)\n",
      "Class=1, n=1000 (10.000%)\n"
     ]
    },
    {
     "data": {
      "image/png": "[encoded data removed]",
      "text/plain": [
       "<Figure size 360x288 with 1 Axes>"
      ]
     },
     "metadata": {},
     "output_type": "display_data"
    }
   ],
   "source": [
    "X_data, y_class = make_classification(n_classes= 2, class_sep=2, n_samples=10000,\n",
    "                                     n_features=20,weights=[0.9,0.1],flip_y=0,\n",
    "                                     n_clusters_per_class=1,random_state=10)\n",
    "\n",
    "print(X_data.shape)\n",
    "\n",
    "y_class.shape\n",
    "\n",
    "plt.figure(figsize=(5,4))\n",
    "count_and_plot(y_class)"
   ]
  },
  {
   "cell_type": "code",
   "execution_count": 135,
   "id": "6ff6cf3a",
   "metadata": {},
   "outputs": [
    {
     "name": "stdout",
     "output_type": "stream",
     "text": [
      "오버 샘플링_원본 데이터 결과 : 3-Fold CV f1 score: 0.9886\n"
     ]
    }
   ],
   "source": [
    "Randomforest_Result(X_data,y_class,\"오버 샘플링_원본 데이터 결과\")"
   ]
  },
  {
   "cell_type": "code",
   "execution_count": 137,
   "id": "f5a008a9",
   "metadata": {},
   "outputs": [],
   "source": [
    "ros = RandomOverSampler(random_state=42)\n",
    "X_ros,y_ros=ros.fit_resample(X_data,y_class)"
   ]
  },
  {
   "cell_type": "code",
   "execution_count": 138,
   "id": "c2a4110e",
   "metadata": {},
   "outputs": [
    {
     "name": "stdout",
     "output_type": "stream",
     "text": [
      "Class=0, n=9000 (50.000%)\n",
      "Class=1, n=9000 (50.000%)\n"
     ]
    },
    {
     "data": {
      "image/png": "[encoded data removed]",
      "text/plain": [
       "<Figure size 360x216 with 1 Axes>"
      ]
     },
     "metadata": {},
     "output_type": "display_data"
    }
   ],
   "source": [
    "plt.figure(figsize=(5,3))\n",
    "count_and_plot(y_ros)"
   ]
  },
  {
   "cell_type": "code",
   "execution_count": 139,
   "id": "e3acf846",
   "metadata": {},
   "outputs": [],
   "source": [
    "smote=SMOTE()\n",
    "X_sm,y_sm = smote.fit_resample(X_data,y_class)"
   ]
  },
  {
   "cell_type": "code",
   "execution_count": 140,
   "id": "71956006",
   "metadata": {},
   "outputs": [
    {
     "name": "stdout",
     "output_type": "stream",
     "text": [
      "Class=0, n=9000 (50.000%)\n",
      "Class=1, n=9000 (50.000%)\n"
     ]
    },
    {
     "data": {
      "image/png": "[encoded data removed]",
      "text/plain": [
       "<Figure size 360x216 with 1 Axes>"
      ]
     },
     "metadata": {},
     "output_type": "display_data"
    }
   ],
   "source": [
    "plt.figure(figsize=(5,3))\n",
    "count_and_plot(y_sm)"
   ]
  },
  {
   "cell_type": "code",
   "execution_count": 141,
   "id": "99fee5c5",
   "metadata": {},
   "outputs": [],
   "source": [
    "ada =ADASYN(random_state=42)\n",
    "X_ada,y_ada = ada.fit_resample(X_data,y_class)"
   ]
  },
  {
   "cell_type": "code",
   "execution_count": 142,
   "id": "f4f4e26c",
   "metadata": {},
   "outputs": [
    {
     "name": "stdout",
     "output_type": "stream",
     "text": [
      "Class=0, n=9000 (49.972%)\n",
      "Class=1, n=9010 (50.028%)\n"
     ]
    },
    {
     "data": {
      "image/png": "[encoded data removed]",
      "text/plain": [
       "<Figure size 360x216 with 1 Axes>"
      ]
     },
     "metadata": {},
     "output_type": "display_data"
    }
   ],
   "source": [
    "plt.figure(figsize=(5,3))\n",
    "count_and_plot(y_ada)"
   ]
  },
  {
   "cell_type": "code",
   "execution_count": 143,
   "id": "04656cdd",
   "metadata": {},
   "outputs": [],
   "source": [
    "bor_sm = BorderlineSMOTE(random_state=42)\n",
    "X_bor_sm,y_bor_sm = bor_sm.fit_resample(X_data,y_class)"
   ]
  },
  {
   "cell_type": "code",
   "execution_count": 145,
   "id": "e83575e4",
   "metadata": {},
   "outputs": [
    {
     "name": "stdout",
     "output_type": "stream",
     "text": [
      "Class=0, n=9000 (50.000%)\n",
      "Class=1, n=9000 (50.000%)\n"
     ]
    },
    {
     "data": {
      "image/png": "[encoded data removed]",
      "text/plain": [
       "<Figure size 360x216 with 1 Axes>"
      ]
     },
     "metadata": {},
     "output_type": "display_data"
    }
   ],
   "source": [
    "plt.figure(figsize=(5,3))\n",
    "count_and_plot(y_bor_sm)"
   ]
  },
  {
   "cell_type": "code",
   "execution_count": 146,
   "id": "ca8aef57",
   "metadata": {},
   "outputs": [
    {
     "name": "stdout",
     "output_type": "stream",
     "text": [
      "오버 샘플링_Boderline SMOTE 결과 : 3-Fold CV f1 score: 0.9987\n"
     ]
    }
   ],
   "source": [
    "Randomforest_Result(X_bor_sm,y_bor_sm,\"오버 샘플링_Boderline SMOTE 결과\")"
   ]
  },
  {
   "cell_type": "code",
   "execution_count": null,
   "id": "f756a11c",
   "metadata": {},
   "outputs": [],
   "source": []
  },
  {
   "cell_type": "code",
   "execution_count": null,
   "id": "d49669e2",
   "metadata": {},
   "outputs": [],
   "source": []
  },
  {
   "cell_type": "code",
   "execution_count": null,
   "id": "652f19b9",
   "metadata": {},
   "outputs": [],
   "source": []
  },
  {
   "cell_type": "markdown",
   "id": "ebb50b1a",
   "metadata": {},
   "source": [
    " <h1>실습 8</h1>"
   ]
  },
  {
   "cell_type": "code",
   "execution_count": 147,
   "id": "4b929d34",
   "metadata": {},
   "outputs": [],
   "source": [
    "from sklearn.datasets import load_iris\n",
    "\n",
    "iris = load_iris()"
   ]
  },
  {
   "cell_type": "code",
   "execution_count": 148,
   "id": "a41c5f84",
   "metadata": {},
   "outputs": [
    {
     "data": {
      "text/plain": [
       "['sepal length (cm)',\n",
       " 'sepal width (cm)',\n",
       " 'petal length (cm)',\n",
       " 'petal width (cm)']"
      ]
     },
     "execution_count": 148,
     "metadata": {},
     "output_type": "execute_result"
    }
   ],
   "source": [
    "iris.feature_names"
   ]
  },
  {
   "cell_type": "code",
   "execution_count": 151,
   "id": "c0793247",
   "metadata": {},
   "outputs": [
    {
     "data": {
      "text/html": [
       "<div>\n",
       "<style scoped>\n",
       "    .dataframe tbody tr th:only-of-type {\n",
       "        vertical-align: middle;\n",
       "    }\n",
       "\n",
       "    .dataframe tbody tr th {\n",
       "        vertical-align: top;\n",
       "    }\n",
       "\n",
       "    .dataframe thead th {\n",
       "        text-align: right;\n",
       "    }\n",
       "</style>\n",
       "<table border=\"1\" class=\"dataframe\">\n",
       "  <thead>\n",
       "    <tr style=\"text-align: right;\">\n",
       "      <th></th>\n",
       "      <th>sepal length (cm)</th>\n",
       "      <th>sepal width (cm)</th>\n",
       "      <th>petal length (cm)</th>\n",
       "      <th>petal width (cm)</th>\n",
       "      <th>target</th>\n",
       "    </tr>\n",
       "  </thead>\n",
       "  <tbody>\n",
       "    <tr>\n",
       "      <th>145</th>\n",
       "      <td>6.7</td>\n",
       "      <td>3.0</td>\n",
       "      <td>5.2</td>\n",
       "      <td>2.3</td>\n",
       "      <td>2</td>\n",
       "    </tr>\n",
       "    <tr>\n",
       "      <th>146</th>\n",
       "      <td>6.3</td>\n",
       "      <td>2.5</td>\n",
       "      <td>5.0</td>\n",
       "      <td>1.9</td>\n",
       "      <td>2</td>\n",
       "    </tr>\n",
       "    <tr>\n",
       "      <th>147</th>\n",
       "      <td>6.5</td>\n",
       "      <td>3.0</td>\n",
       "      <td>5.2</td>\n",
       "      <td>2.0</td>\n",
       "      <td>2</td>\n",
       "    </tr>\n",
       "    <tr>\n",
       "      <th>148</th>\n",
       "      <td>6.2</td>\n",
       "      <td>3.4</td>\n",
       "      <td>5.4</td>\n",
       "      <td>2.3</td>\n",
       "      <td>2</td>\n",
       "    </tr>\n",
       "    <tr>\n",
       "      <th>149</th>\n",
       "      <td>5.9</td>\n",
       "      <td>3.0</td>\n",
       "      <td>5.1</td>\n",
       "      <td>1.8</td>\n",
       "      <td>2</td>\n",
       "    </tr>\n",
       "  </tbody>\n",
       "</table>\n",
       "</div>"
      ],
      "text/plain": [
       "     sepal length (cm)  sepal width (cm)  petal length (cm)  petal width (cm)  \\\n",
       "145                6.7               3.0                5.2               2.3   \n",
       "146                6.3               2.5                5.0               1.9   \n",
       "147                6.5               3.0                5.2               2.0   \n",
       "148                6.2               3.4                5.4               2.3   \n",
       "149                5.9               3.0                5.1               1.8   \n",
       "\n",
       "     target  \n",
       "145       2  \n",
       "146       2  \n",
       "147       2  \n",
       "148       2  \n",
       "149       2  "
      ]
     },
     "execution_count": 151,
     "metadata": {},
     "output_type": "execute_result"
    }
   ],
   "source": [
    "df = pd.DataFrame(iris.data, columns=iris.feature_names)\n",
    "df['target']=iris.target\n",
    "    \n",
    "cols=iris.feature_names\n",
    "df.tail()"
   ]
  },
  {
   "cell_type": "code",
   "execution_count": 155,
   "id": "3e9ac6c4",
   "metadata": {},
   "outputs": [
    {
     "data": {
      "image/png": "[encoded data removed]",
      "text/plain": [
       "<Figure size 432x288 with 1 Axes>"
      ]
     },
     "metadata": {},
     "output_type": "display_data"
    }
   ],
   "source": [
    "markers=['^','s','o']\n",
    "\n",
    "#scatter plot\n",
    "\n",
    "for i, marker in enumerate(markers):\n",
    "    x_axis_data = df[df['target']==i]['sepal length (cm)']\n",
    "    y_axis_data = df[df['target']==i]['sepal width (cm)']\n",
    "    plt.scatter(x_axis_data,y_axis_data,marker=marker,label = iris.target_names[i])\n",
    "plt.legend()\n",
    "plt.xlabel('sepal length')\n",
    "plt.ylabel('sepal width')\n",
    "plt.show()"
   ]
  },
  {
   "cell_type": "code",
   "execution_count": 156,
   "id": "5402d27b",
   "metadata": {},
   "outputs": [],
   "source": [
    "iris_scaled=StandardScaler().fit_transform(df.iloc[:,:-1])"
   ]
  },
  {
   "cell_type": "code",
   "execution_count": 158,
   "id": "45f799d9",
   "metadata": {},
   "outputs": [
    {
     "name": "stdout",
     "output_type": "stream",
     "text": [
      "(150, 2)\n"
     ]
    }
   ],
   "source": [
    "from sklearn.decomposition import PCA\n",
    "pca = PCA(n_components=2)\n",
    "pca.fit(iris_scaled)\n",
    "iris_pca=pca.transform(iris_scaled)\n",
    "print(iris_pca.shape)"
   ]
  },
  {
   "cell_type": "code",
   "execution_count": 160,
   "id": "7f8b4c34",
   "metadata": {},
   "outputs": [
    {
     "data": {
      "text/html": [
       "<div>\n",
       "<style scoped>\n",
       "    .dataframe tbody tr th:only-of-type {\n",
       "        vertical-align: middle;\n",
       "    }\n",
       "\n",
       "    .dataframe tbody tr th {\n",
       "        vertical-align: top;\n",
       "    }\n",
       "\n",
       "    .dataframe thead th {\n",
       "        text-align: right;\n",
       "    }\n",
       "</style>\n",
       "<table border=\"1\" class=\"dataframe\">\n",
       "  <thead>\n",
       "    <tr style=\"text-align: right;\">\n",
       "      <th></th>\n",
       "      <th>pca_component_1</th>\n",
       "      <th>pca_component_2</th>\n",
       "      <th>target</th>\n",
       "    </tr>\n",
       "  </thead>\n",
       "  <tbody>\n",
       "    <tr>\n",
       "      <th>0</th>\n",
       "      <td>-2.264703</td>\n",
       "      <td>0.480027</td>\n",
       "      <td>0</td>\n",
       "    </tr>\n",
       "    <tr>\n",
       "      <th>1</th>\n",
       "      <td>-2.080961</td>\n",
       "      <td>-0.674134</td>\n",
       "      <td>0</td>\n",
       "    </tr>\n",
       "    <tr>\n",
       "      <th>2</th>\n",
       "      <td>-2.364229</td>\n",
       "      <td>-0.341908</td>\n",
       "      <td>0</td>\n",
       "    </tr>\n",
       "    <tr>\n",
       "      <th>3</th>\n",
       "      <td>-2.299384</td>\n",
       "      <td>-0.597395</td>\n",
       "      <td>0</td>\n",
       "    </tr>\n",
       "    <tr>\n",
       "      <th>4</th>\n",
       "      <td>-2.389842</td>\n",
       "      <td>0.646835</td>\n",
       "      <td>0</td>\n",
       "    </tr>\n",
       "  </tbody>\n",
       "</table>\n",
       "</div>"
      ],
      "text/plain": [
       "   pca_component_1  pca_component_2  target\n",
       "0        -2.264703         0.480027       0\n",
       "1        -2.080961        -0.674134       0\n",
       "2        -2.364229        -0.341908       0\n",
       "3        -2.299384        -0.597395       0\n",
       "4        -2.389842         0.646835       0"
      ]
     },
     "execution_count": 160,
     "metadata": {},
     "output_type": "execute_result"
    }
   ],
   "source": [
    "pca_columns=['pca_component_1','pca_component_2']\n",
    "irisDF_pca= pd.DataFrame(iris_pca,columns=pca_columns)\n",
    "irisDF_pca['target']=iris.target\n",
    "irisDF_pca.head(5)"
   ]
  },
  {
   "cell_type": "code",
   "execution_count": 161,
   "id": "75267873",
   "metadata": {},
   "outputs": [
    {
     "name": "stdout",
     "output_type": "stream",
     "text": [
      "원본 데이터 교차 검증 정확도:  [0.98 0.94 0.96]\n",
      "원본 데이터 교차 검증 평균 정확도:  0.96\n"
     ]
    }
   ],
   "source": [
    "rcf=RandomForestClassifier(random_state=156)\n",
    "scores = cross_val_score(rcf,iris.data, iris.target,scoring='accuracy',cv=3)\n",
    "print(\"원본 데이터 교차 검증 정확도: \",scores)\n",
    "print(\"원본 데이터 교차 검증 평균 정확도: \", np.mean(scores))"
   ]
  },
  {
   "cell_type": "code",
   "execution_count": 164,
   "id": "cf52fdd4",
   "metadata": {},
   "outputs": [
    {
     "name": "stdout",
     "output_type": "stream",
     "text": [
      "PCA 데이터 교차 검증 정확도:  [0.88 0.88 0.88]\n",
      "PCA 데이터 교차 검증 평균 정확도:  0.88\n"
     ]
    }
   ],
   "source": [
    "pca_X = irisDF_pca[['pca_component_1','pca_component_2']]\n",
    "scores_pca = cross_val_score(rcf,pca_X,iris.target,scoring='accuracy'\n",
    "                             ,cv=3)\n",
    "print(\"PCA 데이터 교차 검증 정확도: \",scores_pca)\n",
    "print(\"PCA 데이터 교차 검증 평균 정확도: \", np.mean(scores_pca))"
   ]
  },
  {
   "cell_type": "code",
   "execution_count": 165,
   "id": "3c22e3c9",
   "metadata": {},
   "outputs": [
    {
     "name": "stdout",
     "output_type": "stream",
     "text": [
      "Index(['sepal length (cm)', 'sepal width (cm)', 'petal length (cm)',\n",
      "       'petal width (cm)', 'target'],\n",
      "      dtype='object')\n"
     ]
    },
    {
     "data": {
      "text/html": [
       "<div>\n",
       "<style scoped>\n",
       "    .dataframe tbody tr th:only-of-type {\n",
       "        vertical-align: middle;\n",
       "    }\n",
       "\n",
       "    .dataframe tbody tr th {\n",
       "        vertical-align: top;\n",
       "    }\n",
       "\n",
       "    .dataframe thead th {\n",
       "        text-align: right;\n",
       "    }\n",
       "</style>\n",
       "<table border=\"1\" class=\"dataframe\">\n",
       "  <thead>\n",
       "    <tr style=\"text-align: right;\">\n",
       "      <th></th>\n",
       "      <th>sepal length (cm)</th>\n",
       "      <th>sepal width (cm)</th>\n",
       "      <th>petal length (cm)</th>\n",
       "      <th>petal width (cm)</th>\n",
       "      <th>target</th>\n",
       "    </tr>\n",
       "  </thead>\n",
       "  <tbody>\n",
       "    <tr>\n",
       "      <th>0</th>\n",
       "      <td>5.1</td>\n",
       "      <td>3.5</td>\n",
       "      <td>1.4</td>\n",
       "      <td>0.2</td>\n",
       "      <td>0</td>\n",
       "    </tr>\n",
       "    <tr>\n",
       "      <th>1</th>\n",
       "      <td>4.9</td>\n",
       "      <td>3.0</td>\n",
       "      <td>1.4</td>\n",
       "      <td>0.2</td>\n",
       "      <td>0</td>\n",
       "    </tr>\n",
       "    <tr>\n",
       "      <th>2</th>\n",
       "      <td>4.7</td>\n",
       "      <td>3.2</td>\n",
       "      <td>1.3</td>\n",
       "      <td>0.2</td>\n",
       "      <td>0</td>\n",
       "    </tr>\n",
       "    <tr>\n",
       "      <th>3</th>\n",
       "      <td>4.6</td>\n",
       "      <td>3.1</td>\n",
       "      <td>1.5</td>\n",
       "      <td>0.2</td>\n",
       "      <td>0</td>\n",
       "    </tr>\n",
       "    <tr>\n",
       "      <th>4</th>\n",
       "      <td>5.0</td>\n",
       "      <td>3.6</td>\n",
       "      <td>1.4</td>\n",
       "      <td>0.2</td>\n",
       "      <td>0</td>\n",
       "    </tr>\n",
       "  </tbody>\n",
       "</table>\n",
       "</div>"
      ],
      "text/plain": [
       "   sepal length (cm)  sepal width (cm)  petal length (cm)  petal width (cm)  \\\n",
       "0                5.1               3.5                1.4               0.2   \n",
       "1                4.9               3.0                1.4               0.2   \n",
       "2                4.7               3.2                1.3               0.2   \n",
       "3                4.6               3.1                1.5               0.2   \n",
       "4                5.0               3.6                1.4               0.2   \n",
       "\n",
       "   target  \n",
       "0       0  \n",
       "1       0  \n",
       "2       0  \n",
       "3       0  \n",
       "4       0  "
      ]
     },
     "execution_count": 165,
     "metadata": {},
     "output_type": "execute_result"
    }
   ],
   "source": [
    "print(df.columns)\n",
    "df.head()"
   ]
  },
  {
   "cell_type": "code",
   "execution_count": 167,
   "id": "46807908",
   "metadata": {},
   "outputs": [],
   "source": [
    "from sklearn.manifold import TSNE\n",
    "train_df = df[['sepal length (cm)', 'sepal width (cm)', 'petal length (cm)','petal width (cm)']]\n",
    "tsne_np = TSNE(n_components=2).fit_transform(train_df)\n",
    "\n",
    "tsne_df = pd.DataFrame(tsne_np, columns=['component 0', 'component 1'])"
   ]
  },
  {
   "cell_type": "code",
   "execution_count": 168,
   "id": "e70ed752",
   "metadata": {},
   "outputs": [
    {
     "data": {
      "text/html": [
       "<div>\n",
       "<style scoped>\n",
       "    .dataframe tbody tr th:only-of-type {\n",
       "        vertical-align: middle;\n",
       "    }\n",
       "\n",
       "    .dataframe tbody tr th {\n",
       "        vertical-align: top;\n",
       "    }\n",
       "\n",
       "    .dataframe thead th {\n",
       "        text-align: right;\n",
       "    }\n",
       "</style>\n",
       "<table border=\"1\" class=\"dataframe\">\n",
       "  <thead>\n",
       "    <tr style=\"text-align: right;\">\n",
       "      <th></th>\n",
       "      <th>component 0</th>\n",
       "      <th>component 1</th>\n",
       "    </tr>\n",
       "  </thead>\n",
       "  <tbody>\n",
       "    <tr>\n",
       "      <th>0</th>\n",
       "      <td>-17.926664</td>\n",
       "      <td>-12.379169</td>\n",
       "    </tr>\n",
       "    <tr>\n",
       "      <th>1</th>\n",
       "      <td>-15.581841</td>\n",
       "      <td>-13.200589</td>\n",
       "    </tr>\n",
       "    <tr>\n",
       "      <th>2</th>\n",
       "      <td>-15.250189</td>\n",
       "      <td>-12.160142</td>\n",
       "    </tr>\n",
       "    <tr>\n",
       "      <th>3</th>\n",
       "      <td>-14.987906</td>\n",
       "      <td>-12.406537</td>\n",
       "    </tr>\n",
       "    <tr>\n",
       "      <th>4</th>\n",
       "      <td>-17.947941</td>\n",
       "      <td>-11.907646</td>\n",
       "    </tr>\n",
       "  </tbody>\n",
       "</table>\n",
       "</div>"
      ],
      "text/plain": [
       "   component 0  component 1\n",
       "0   -17.926664   -12.379169\n",
       "1   -15.581841   -13.200589\n",
       "2   -15.250189   -12.160142\n",
       "3   -14.987906   -12.406537\n",
       "4   -17.947941   -11.907646"
      ]
     },
     "execution_count": 168,
     "metadata": {},
     "output_type": "execute_result"
    }
   ],
   "source": [
    "tsne_df.head()"
   ]
  },
  {
   "cell_type": "code",
   "execution_count": 169,
   "id": "4c167707",
   "metadata": {},
   "outputs": [
    {
     "data": {
      "image/png": "[encoded data removed]",
      "text/plain": [
       "<Figure size 432x288 with 1 Axes>"
      ]
     },
     "metadata": {},
     "output_type": "display_data"
    }
   ],
   "source": [
    "tsne_df['target'] = df['target']\n",
    "\n",
    "tsne_df_0 = tsne_df[tsne_df['target']==0]\n",
    "tsne_df_1 = tsne_df[tsne_df['target']==1]\n",
    "tsne_df_2 = tsne_df[tsne_df['target']==2]\n",
    "\n",
    "plt.scatter(tsne_df_0['component 0'], tsne_df_0['component 1'], color ='blue', label='setosa')\n",
    "plt.scatter(tsne_df_1['component 0'], tsne_df_1['component 1'], color ='red', label='versicolor')\n",
    "plt.scatter(tsne_df_2['component 0'], tsne_df_2['component 1'], color ='green', label='virginica')\n",
    "\n",
    "plt.xlabel('component 0')\n",
    "plt.ylabel('component 1')\n",
    "plt.legend()\n",
    "plt.show()"
   ]
  }
 ],
 "metadata": {
  "kernelspec": {
   "display_name": "Python 3 (ipykernel)",
   "language": "python",
   "name": "python3"
  },
  "language_info": {
   "codemirror_mode": {
    "name": "ipython",
    "version": 3
   },
   "file_extension": ".py",
   "mimetype": "text/x-python",
   "name": "python",
   "nbconvert_exporter": "python",
   "pygments_lexer": "ipython3",
   "version": "3.9.12"
  }
 },
 "nbformat": 4,
 "nbformat_minor": 5
}
